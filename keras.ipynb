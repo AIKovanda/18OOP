{
 "cells": [
  {
   "cell_type": "markdown",
   "metadata": {},
   "source": [
    "<div style=\"background-color: #e0e0e0;padding:10px\"><img src=\"https://keras.io/img/logo.png\" width=300></div>\n",
    "\n",
    "Použití pro\n",
    "+ neuronové sítě\n",
    "\n",
    "Využívají ho např.\n",
    "+ CERN\n",
    "+ NASA\n",
    "+ NIH (National Institutes of Health)\n",
    "\n",
    "## Instalace\n",
    "\n",
    "Knihovna `keras` ke správnému fungování využívá v pozadí mnoho dalších knihoven. Nejvýznamnější z nich se nazývá `tensorflow` (místo ní ale může obsahovat i alternativy, jako např. `theano`). Jejich vývoj je ale v jistém smyslu nezávislý a jednotlivé verze spolu občas nekomunikují správně. Z tohoto (a mnoha jiných) důvodů je výhodné používat package manager jako např. <a href=\"https://www.anaconda.com/\">anaconda</a>.\n",
    "<div  style=\"padding:10px;text-align:center\"><img src=\"https://pandas.pydata.org/static/img/partners/anaconda.svg\" width=300></div>\n",
    "Po její instalaci se může jednoduše vytvořit prostředí s různými verzemi jednotlivých knihoven. Pro instalaci `keras`, který bude využívat k výpočtům CPU slouží příkaz:\n",
    "\n",
    "```console\n",
    "foo@bar:~$ conda create -n tfl keras matplotlib Pillow sympy numpy pandas scipy jupyter\n",
    "```\n",
    "Ten zároveň nainstaluje některé používané knihovny do prostředí `tfl` (pro samotný keras nejsou potřeba, ale je dobré nainstalovat všechny najednou, protože `anaconda` pohlídá jejich kompatibilitu). \n",
    "\n",
    "Pokud je k dispozici GPU, je téměř vždy výhodné využívat pro výpočty právě ji. Instalace probíhá příkazem:\n",
    "```console\n",
    "foo@bar:~$ conda create -n tfl keras-gpu matplotlib Pillow sympy numpy pandas scipy jupyter\n",
    "```\n",
    "Prostředí je potom možné aktivovat příkazem:\n",
    "```console\n",
    "foo@bar:~$ conda activate tfl\n",
    "```"
   ]
  },
  {
   "cell_type": "markdown",
   "metadata": {},
   "source": [
    "## Kompletní ukázka rozpoznávání ručně psaných číslic MNIST datasetu\n",
    "\n",
    "Import:"
   ]
  },
  {
   "cell_type": "code",
   "execution_count": 1,
   "metadata": {},
   "outputs": [],
   "source": [
    "import PIL\n",
    "\n",
    "import pandas as pd # work with datasets\n",
    "from tensorflow.keras.datasets import mnist\n",
    "(X, Y), (X_test, Y_test) = mnist.load_data()"
   ]
  },
  {
   "cell_type": "code",
   "execution_count": 2,
   "metadata": {},
   "outputs": [
    {
     "data": {
      "text/plain": [
       "(60000, 28, 28)"
      ]
     },
     "execution_count": 2,
     "metadata": {},
     "output_type": "execute_result"
    }
   ],
   "source": [
    "X.shape"
   ]
  },
  {
   "cell_type": "markdown",
   "metadata": {},
   "source": [
    "Z toho je možno vidět, že dataset obsahuje 60000 ručne psaných číslic o rozměru `(28,28)` a jednom barevném kanálu. V praxi se často využívají RGB snímky. Dataset v takovém případě bude rozměru `(count,x_shape,y_shape,3)`, což je tenzor o 4 rozměrech. V případě videí je ještě navíc přidán jeden rozměr pro časovou osu."
   ]
  },
  {
   "cell_type": "code",
   "execution_count": 3,
   "metadata": {},
   "outputs": [
    {
     "data": {
      "image/png": "[encoded data removed]",
      "text/plain": [
       "<Figure size 3400x320 with 12 Axes>"
      ]
     },
     "metadata": {
      "needs_background": "light"
     },
     "output_type": "display_data"
    }
   ],
   "source": [
    "import matplotlib.pyplot as plt\n",
    "count=12\n",
    "fig, ax = plt.subplots(1, count,figsize=(17,1.6), dpi=200)\n",
    "fig.suptitle('Samples from MNIST dataset')\n",
    "for i in range(count):\n",
    "    ax[i].imshow(X[i],cmap='Greys_r')\n",
    "    ax[i].axis('off')"
   ]
  },
  {
   "cell_type": "markdown",
   "metadata": {},
   "source": [
    "Nyní je cílem tyto snímky klasifikovat, tj. udělat takovou neuronovou síť, která by dokázala vyhodnocovat snímky, se kterými se před tím nikdy nesetkala. "
   ]
  },
  {
   "cell_type": "code",
   "execution_count": 4,
   "metadata": {},
   "outputs": [
    {
     "name": "stderr",
     "output_type": "stream",
     "text": [
      "Using TensorFlow backend.\n"
     ]
    }
   ],
   "source": [
    "import os\n",
    "os.environ['TF_FORCE_GPU_ALLOW_GROWTH'] = 'true'\n",
    "from keras.models import Sequential\n",
    "from keras.layers import Dense\n",
    "from keras import regularizers\n",
    "from keras.layers import Dropout,AlphaDropout\n",
    "from keras.layers import Convolution2D,MaxPooling2D,Flatten\n",
    "from keras.layers.normalization import BatchNormalization"
   ]
  },
  {
   "cell_type": "markdown",
   "metadata": {},
   "source": [
    "Neuronové sítě lze v kerasu vytvořit dvěma způsoby. V prvním z nich se využívá třída `keras.models.Sequential`, pomocí které lze jednoduše vytvářet lineární sítě, což jsou takové sítě, kde jde výstup každé vrstvy na vstup následující vrstvy. \n",
    "\n",
    "Druhým způsobem lze sítě vytvářet libovolným mícháním výstupů jednotlivých vrstev.\n",
    "\n",
    "<img src=\"img/4.svg\" style=\"width: 100%\">\n",
    "\n",
    "\n",
    "## Sequential"
   ]
  },
  {
   "cell_type": "code",
   "execution_count": 5,
   "metadata": {},
   "outputs": [],
   "source": [
    "classifier = Sequential()"
   ]
  },
  {
   "cell_type": "markdown",
   "metadata": {},
   "source": [
    "Pomocí této třídy lze jednoduše přidávat další vrstvy pomocí funkce `keras.models.Sequential.add`. Na výběr jsou potom vrstvy např. `keras.layers.Convolution1D`, `keras.layers.Convolution2D`, `keras.layers.MaxPooling2D`, `keras.layers.Flatten`, `keras.layers.Dense`, `keras.layers.BatchNormalization` a další.\n",
    "\n",
    "Vstupem jsou obrázky, a proto je na místě nejprve využít konvoluční vrstvu. Problém při jejím nepoužití ilustruje následující obrázek:\n",
    "\n",
    "<img src=\"img/3.svg\" style=\"width: 50%\">"
   ]
  },
  {
   "cell_type": "code",
   "execution_count": 6,
   "metadata": {},
   "outputs": [],
   "source": [
    "classifier.add(Convolution2D(32, (3, 3),input_shape = [28, 28,1], activation = 'relu', \n",
    "                             kernel_regularizer=regularizers.l2(0.001)))"
   ]
  },
  {
   "cell_type": "markdown",
   "metadata": {},
   "source": [
    "Tímto je do sítě přidána vrstva o `32` neuronech, konvolučním tenzoru o rozměru `(3,3,z)`, vstupním tenzoru velikosti `(28,28,1)`, aktivační funkci `relu` a L2 regularizaci o velikosti `0.001`.\n",
    "\n",
    "<img src=\"img/2.svg\" style=\"width: 50%\">\n",
    "\n",
    "Dále na řadu přichází poolingová vrstva."
   ]
  },
  {
   "cell_type": "code",
   "execution_count": 7,
   "metadata": {},
   "outputs": [],
   "source": [
    "classifier.add(MaxPooling2D(pool_size = (2, 2)))"
   ]
  },
  {
   "cell_type": "markdown",
   "metadata": {},
   "source": [
    "Tato vrstva má za úkol redukci dat. Vždy vybere matici o rozměru `(2,2)` a zachová z ní jen nejvyšší hodnotu.\n",
    "\n",
    "První vrstva zmenšila obrázek na rozměry `(26,26,32)`, druhá z něho udělala `(13,13,32)`. Proces je možno opakovat, dokud nejsou první 2 rozměry výstupu dostatečně nízké. V dalším opakování těchto dvou vrstev je získán výstup o rozměru `(11,11,z')` a `(6,6,z')`, dále pak `(4,4,z\")` a `(2,2,z\")`. Hodnoty `z'` a `z\"` jsou přímo rovny počtu použitých neuronů, jelikož z každého konvolučního neuronu vznikne jedna vrstva výstupního tenzoru.\n",
    "\n",
    "Dále již není potřeba uvádět velikost vstupního tenzoru, jelikož si ho knihovna `keras` doplní sama podle předešlé vrstvy."
   ]
  },
  {
   "cell_type": "code",
   "execution_count": 8,
   "metadata": {},
   "outputs": [],
   "source": [
    "classifier.add(Convolution2D(64, (3, 3), activation = 'relu', kernel_regularizer=regularizers.l2(0.001)))\n",
    "classifier.add(MaxPooling2D(pool_size = (2, 2)))"
   ]
  },
  {
   "cell_type": "code",
   "execution_count": 9,
   "metadata": {},
   "outputs": [],
   "source": [
    "classifier.add(Convolution2D(128, (3, 3), activation = 'relu', kernel_regularizer=regularizers.l2(0.001)))\n",
    "classifier.add(MaxPooling2D(pool_size = (2, 2)))"
   ]
  },
  {
   "cell_type": "markdown",
   "metadata": {},
   "source": [
    "Nyní přichází na řadu _flattening_, který výsledný tenzor vektorizuje. Tato funkce spolu s poolingem neobsahuje žádné trénovatelné parametry."
   ]
  },
  {
   "cell_type": "code",
   "execution_count": 10,
   "metadata": {},
   "outputs": [],
   "source": [
    "classifier.add(Flatten())"
   ]
  },
  {
   "cell_type": "markdown",
   "metadata": {},
   "source": [
    "Poté, co je tenzor vektorizován, mohou se na výsledný vektor aplikovat vrstevnaté sítě (_Dense Neural Networks_). \n",
    "\n",
    "<img src=\"img/1.svg\" style=\"width: 30%\">"
   ]
  },
  {
   "cell_type": "code",
   "execution_count": 11,
   "metadata": {},
   "outputs": [],
   "source": [
    "classifier.add(Dense(units=128, kernel_initializer='he_uniform',bias_initializer='zeros', \n",
    "                     activation = 'relu', kernel_regularizer=regularizers.l2(0.001)))"
   ]
  },
  {
   "cell_type": "code",
   "execution_count": 12,
   "metadata": {},
   "outputs": [],
   "source": [
    "classifier.add(Dense(units=64, kernel_initializer='he_uniform',bias_initializer='zeros', \n",
    "                     activation = 'relu', kernel_regularizer=regularizers.l2(0.001)))"
   ]
  },
  {
   "cell_type": "markdown",
   "metadata": {},
   "source": [
    "Poslední vrstvou je již samotný klasifikátor. Výstupem celé sítě nebude číslo, které je obsaženo na fotografii, ale rozložení pravděpodobnosti pro jednotlivá čísla. Z tohoto důvodu je třeba 10 výstupních neuronů."
   ]
  },
  {
   "cell_type": "code",
   "execution_count": 13,
   "metadata": {},
   "outputs": [],
   "source": [
    "classifier.add(Dense(10, activation='softmax'))"
   ]
  },
  {
   "cell_type": "markdown",
   "metadata": {},
   "source": [
    "Nyní proběhne kompilace sítě, u které se zadávají metody, pomocí kterých je možné síť trénovat."
   ]
  },
  {
   "cell_type": "code",
   "execution_count": 14,
   "metadata": {},
   "outputs": [],
   "source": [
    "classifier.compile(optimizer='rmsprop', loss='categorical_crossentropy', metrics=['accuracy'])"
   ]
  },
  {
   "cell_type": "markdown",
   "metadata": {},
   "source": [
    "Síť je možno jednoduše vizualizovat, aby byly přehledně vidět všechny vrstvy."
   ]
  },
  {
   "cell_type": "code",
   "execution_count": 15,
   "metadata": {},
   "outputs": [
    {
     "name": "stdout",
     "output_type": "stream",
     "text": [
      "Model: \"sequential_1\"\n",
      "_________________________________________________________________\n",
      "Layer (type)                 Output Shape              Param #   \n",
      "=================================================================\n",
      "conv2d_1 (Conv2D)            (None, 26, 26, 32)        320       \n",
      "_________________________________________________________________\n",
      "max_pooling2d_1 (MaxPooling2 (None, 13, 13, 32)        0         \n",
      "_________________________________________________________________\n",
      "conv2d_2 (Conv2D)            (None, 11, 11, 64)        18496     \n",
      "_________________________________________________________________\n",
      "max_pooling2d_2 (MaxPooling2 (None, 5, 5, 64)          0         \n",
      "_________________________________________________________________\n",
      "conv2d_3 (Conv2D)            (None, 3, 3, 128)         73856     \n",
      "_________________________________________________________________\n",
      "max_pooling2d_3 (MaxPooling2 (None, 1, 1, 128)         0         \n",
      "_________________________________________________________________\n",
      "flatten_1 (Flatten)          (None, 128)               0         \n",
      "_________________________________________________________________\n",
      "dense_1 (Dense)              (None, 128)               16512     \n",
      "_________________________________________________________________\n",
      "dense_2 (Dense)              (None, 64)                8256      \n",
      "_________________________________________________________________\n",
      "dense_3 (Dense)              (None, 10)                650       \n",
      "=================================================================\n",
      "Total params: 118,090\n",
      "Trainable params: 118,090\n",
      "Non-trainable params: 0\n",
      "_________________________________________________________________\n"
     ]
    }
   ],
   "source": [
    "classifier.summary()"
   ]
  },
  {
   "cell_type": "markdown",
   "metadata": {},
   "source": [
    "## Trénování sítě\n",
    "\n",
    "Data jsou nyní v rozměru `(60000,28,28)`. Jako vstupní vrstva je však tenzor o rozměru `(28,28,1)`. Z tohoto důvodu je neprve potřeba zvýšit rozměr obrázku o 1."
   ]
  },
  {
   "cell_type": "code",
   "execution_count": 16,
   "metadata": {},
   "outputs": [],
   "source": [
    "X=X.reshape((60000,28,28,1)) "
   ]
  },
  {
   "cell_type": "markdown",
   "metadata": {},
   "source": [
    "Y je naproti tomu nutné převést na tzv. _dummy variable_."
   ]
  },
  {
   "cell_type": "code",
   "execution_count": 17,
   "metadata": {},
   "outputs": [
    {
     "data": {
      "text/plain": [
       "array([5, 0, 4, ..., 5, 6, 8], dtype=uint8)"
      ]
     },
     "execution_count": 17,
     "metadata": {},
     "output_type": "execute_result"
    }
   ],
   "source": [
    "Y"
   ]
  },
  {
   "cell_type": "code",
   "execution_count": 18,
   "metadata": {},
   "outputs": [],
   "source": [
    "Y=pd.get_dummies(Y)"
   ]
  },
  {
   "cell_type": "code",
   "execution_count": 19,
   "metadata": {},
   "outputs": [
    {
     "data": {
      "text/html": [
       "<div>\n",
       "<style scoped>\n",
       "    .dataframe tbody tr th:only-of-type {\n",
       "        vertical-align: middle;\n",
       "    }\n",
       "\n",
       "    .dataframe tbody tr th {\n",
       "        vertical-align: top;\n",
       "    }\n",
       "\n",
       "    .dataframe thead th {\n",
       "        text-align: right;\n",
       "    }\n",
       "</style>\n",
       "<table border=\"1\" class=\"dataframe\">\n",
       "  <thead>\n",
       "    <tr style=\"text-align: right;\">\n",
       "      <th></th>\n",
       "      <th>0</th>\n",
       "      <th>1</th>\n",
       "      <th>2</th>\n",
       "      <th>3</th>\n",
       "      <th>4</th>\n",
       "      <th>5</th>\n",
       "      <th>6</th>\n",
       "      <th>7</th>\n",
       "      <th>8</th>\n",
       "      <th>9</th>\n",
       "    </tr>\n",
       "  </thead>\n",
       "  <tbody>\n",
       "    <tr>\n",
       "      <th>0</th>\n",
       "      <td>0</td>\n",
       "      <td>0</td>\n",
       "      <td>0</td>\n",
       "      <td>0</td>\n",
       "      <td>0</td>\n",
       "      <td>1</td>\n",
       "      <td>0</td>\n",
       "      <td>0</td>\n",
       "      <td>0</td>\n",
       "      <td>0</td>\n",
       "    </tr>\n",
       "    <tr>\n",
       "      <th>1</th>\n",
       "      <td>1</td>\n",
       "      <td>0</td>\n",
       "      <td>0</td>\n",
       "      <td>0</td>\n",
       "      <td>0</td>\n",
       "      <td>0</td>\n",
       "      <td>0</td>\n",
       "      <td>0</td>\n",
       "      <td>0</td>\n",
       "      <td>0</td>\n",
       "    </tr>\n",
       "    <tr>\n",
       "      <th>2</th>\n",
       "      <td>0</td>\n",
       "      <td>0</td>\n",
       "      <td>0</td>\n",
       "      <td>0</td>\n",
       "      <td>1</td>\n",
       "      <td>0</td>\n",
       "      <td>0</td>\n",
       "      <td>0</td>\n",
       "      <td>0</td>\n",
       "      <td>0</td>\n",
       "    </tr>\n",
       "    <tr>\n",
       "      <th>3</th>\n",
       "      <td>0</td>\n",
       "      <td>1</td>\n",
       "      <td>0</td>\n",
       "      <td>0</td>\n",
       "      <td>0</td>\n",
       "      <td>0</td>\n",
       "      <td>0</td>\n",
       "      <td>0</td>\n",
       "      <td>0</td>\n",
       "      <td>0</td>\n",
       "    </tr>\n",
       "  </tbody>\n",
       "</table>\n",
       "</div>"
      ],
      "text/plain": [
       "   0  1  2  3  4  5  6  7  8  9\n",
       "0  0  0  0  0  0  1  0  0  0  0\n",
       "1  1  0  0  0  0  0  0  0  0  0\n",
       "2  0  0  0  0  1  0  0  0  0  0\n",
       "3  0  1  0  0  0  0  0  0  0  0"
      ]
     },
     "execution_count": 19,
     "metadata": {},
     "output_type": "execute_result"
    }
   ],
   "source": [
    "Y.head(4)"
   ]
  },
  {
   "cell_type": "markdown",
   "metadata": {},
   "source": [
    "Samotné trénování pak provádí funkce `keras.models.Sequential.fit`."
   ]
  },
  {
   "cell_type": "code",
   "execution_count": 20,
   "metadata": {},
   "outputs": [
    {
     "name": "stdout",
     "output_type": "stream",
     "text": [
      "Train on 48000 samples, validate on 12000 samples\n",
      "Epoch 1/32\n",
      "48000/48000 [==============================] - 9s 185us/step - loss: 1.3752 - accuracy: 0.8566 - val_loss: 0.4059 - val_accuracy: 0.9493\n",
      "Epoch 2/32\n",
      "48000/48000 [==============================] - 9s 196us/step - loss: 0.3140 - accuracy: 0.9674 - val_loss: 0.2556 - val_accuracy: 0.9763\n",
      "Epoch 3/32\n",
      "48000/48000 [==============================] - 9s 191us/step - loss: 0.2220 - accuracy: 0.9766 - val_loss: 0.2094 - val_accuracy: 0.9785\n",
      "Epoch 4/32\n",
      "48000/48000 [==============================] - 9s 187us/step - loss: 0.1760 - accuracy: 0.9809 - val_loss: 0.1607 - val_accuracy: 0.9825\n",
      "Epoch 5/32\n",
      "48000/48000 [==============================] - 9s 183us/step - loss: 0.1444 - accuracy: 0.9842 - val_loss: 0.1600 - val_accuracy: 0.9786\n",
      "Epoch 6/32\n",
      "48000/48000 [==============================] - 9s 188us/step - loss: 0.1233 - accuracy: 0.9859 - val_loss: 0.1382 - val_accuracy: 0.9801\n",
      "Epoch 7/32\n",
      "48000/48000 [==============================] - 9s 184us/step - loss: 0.1079 - accuracy: 0.9879 - val_loss: 0.1518 - val_accuracy: 0.9772\n",
      "Epoch 8/32\n",
      "48000/48000 [==============================] - 9s 185us/step - loss: 0.0991 - accuracy: 0.9880 - val_loss: 0.1220 - val_accuracy: 0.9822\n",
      "Epoch 9/32\n",
      "48000/48000 [==============================] - 9s 183us/step - loss: 0.0908 - accuracy: 0.9886 - val_loss: 0.1058 - val_accuracy: 0.9852\n",
      "Epoch 10/32\n",
      "48000/48000 [==============================] - 9s 190us/step - loss: 0.0849 - accuracy: 0.9893 - val_loss: 0.1014 - val_accuracy: 0.9858\n",
      "Epoch 11/32\n",
      "48000/48000 [==============================] - 9s 191us/step - loss: 0.0807 - accuracy: 0.9895 - val_loss: 0.1087 - val_accuracy: 0.9837\n",
      "Epoch 12/32\n",
      "48000/48000 [==============================] - 9s 180us/step - loss: 0.0775 - accuracy: 0.9900 - val_loss: 0.1229 - val_accuracy: 0.9774\n",
      "Epoch 13/32\n",
      "48000/48000 [==============================] - 9s 180us/step - loss: 0.0719 - accuracy: 0.9911 - val_loss: 0.1412 - val_accuracy: 0.9744\n",
      "Epoch 14/32\n",
      "48000/48000 [==============================] - 9s 183us/step - loss: 0.0706 - accuracy: 0.9907 - val_loss: 0.0879 - val_accuracy: 0.9865\n",
      "Epoch 15/32\n",
      "48000/48000 [==============================] - 9s 182us/step - loss: 0.0698 - accuracy: 0.9905 - val_loss: 0.1203 - val_accuracy: 0.9776\n",
      "Epoch 16/32\n",
      "48000/48000 [==============================] - 9s 180us/step - loss: 0.0660 - accuracy: 0.9910 - val_loss: 0.0940 - val_accuracy: 0.9847\n",
      "Epoch 17/32\n",
      "48000/48000 [==============================] - 9s 179us/step - loss: 0.0652 - accuracy: 0.9914 - val_loss: 0.0951 - val_accuracy: 0.9840\n",
      "Epoch 18/32\n",
      "48000/48000 [==============================] - 9s 180us/step - loss: 0.0631 - accuracy: 0.9911 - val_loss: 0.0929 - val_accuracy: 0.9847\n",
      "Epoch 19/32\n",
      "48000/48000 [==============================] - 9s 180us/step - loss: 0.0616 - accuracy: 0.9912 - val_loss: 0.0892 - val_accuracy: 0.9852\n",
      "Epoch 20/32\n",
      "48000/48000 [==============================] - 9s 180us/step - loss: 0.0612 - accuracy: 0.9920 - val_loss: 0.0928 - val_accuracy: 0.9850\n",
      "Epoch 21/32\n",
      "48000/48000 [==============================] - 9s 181us/step - loss: 0.0613 - accuracy: 0.9915 - val_loss: 0.0796 - val_accuracy: 0.9887\n",
      "Epoch 22/32\n",
      "48000/48000 [==============================] - 9s 181us/step - loss: 0.0586 - accuracy: 0.9919 - val_loss: 0.1115 - val_accuracy: 0.9810\n",
      "Epoch 23/32\n",
      "48000/48000 [==============================] - 9s 181us/step - loss: 0.0577 - accuracy: 0.9924 - val_loss: 0.0926 - val_accuracy: 0.9852\n",
      "Epoch 24/32\n",
      "48000/48000 [==============================] - 9s 180us/step - loss: 0.0568 - accuracy: 0.9922 - val_loss: 0.0876 - val_accuracy: 0.9854\n",
      "Epoch 25/32\n",
      "48000/48000 [==============================] - 9s 180us/step - loss: 0.0563 - accuracy: 0.9924 - val_loss: 0.1074 - val_accuracy: 0.9812\n",
      "Epoch 26/32\n",
      "48000/48000 [==============================] - 9s 180us/step - loss: 0.0553 - accuracy: 0.9927 - val_loss: 0.1850 - val_accuracy: 0.9587\n",
      "Epoch 27/32\n",
      "48000/48000 [==============================] - 9s 181us/step - loss: 0.0560 - accuracy: 0.9919 - val_loss: 0.1141 - val_accuracy: 0.9793\n",
      "Epoch 28/32\n",
      "48000/48000 [==============================] - 9s 181us/step - loss: 0.0549 - accuracy: 0.9925 - val_loss: 0.0898 - val_accuracy: 0.9854\n",
      "Epoch 29/32\n",
      "48000/48000 [==============================] - 9s 181us/step - loss: 0.0536 - accuracy: 0.9925 - val_loss: 0.0996 - val_accuracy: 0.9825\n",
      "Epoch 30/32\n",
      "48000/48000 [==============================] - 9s 180us/step - loss: 0.0537 - accuracy: 0.9927 - val_loss: 0.0847 - val_accuracy: 0.9854\n",
      "Epoch 31/32\n",
      "48000/48000 [==============================] - 9s 179us/step - loss: 0.0532 - accuracy: 0.9926 - val_loss: 0.0843 - val_accuracy: 0.9862\n",
      "Epoch 32/32\n",
      "48000/48000 [==============================] - 9s 180us/step - loss: 0.0540 - accuracy: 0.9924 - val_loss: 0.0799 - val_accuracy: 0.9862\n"
     ]
    }
   ],
   "source": [
    "history=classifier.fit(x=X,y=Y,batch_size=128,validation_split=0.2,epochs=32)"
   ]
  },
  {
   "cell_type": "markdown",
   "metadata": {},
   "source": [
    "## Vizualizace trénování\n",
    "\n",
    "Všechny informace o trénování sítě jsou nyní uloženy do proměnné `history`. V tomto formátu se dají jednoduše vizualizovat."
   ]
  },
  {
   "cell_type": "code",
   "execution_count": 73,
   "metadata": {},
   "outputs": [
    {
     "data": {
      "image/png": "[encoded data removed]",
      "text/plain": [
       "<Figure size 840x360 with 1 Axes>"
      ]
     },
     "metadata": {
      "needs_background": "light"
     },
     "output_type": "display_data"
    }
   ],
   "source": [
    "plt.close()\n",
    "plt.rcParams[\"figure.dpi\"]=120\n",
    "plt.plot(history.history['accuracy'])\n",
    "plt.plot(history.history['val_accuracy'])\n",
    "plt.rcParams['figure.figsize'] = 7,3\n",
    "plt.title('model accuracy')\n",
    "plt.ylabel('accuracy')\n",
    "plt.xlabel('epoch')\n",
    "plt.legend(['train', 'test'], loc='upper left')\n",
    "plt.show()"
   ]
  },
  {
   "cell_type": "code",
   "execution_count": 74,
   "metadata": {},
   "outputs": [
    {
     "data": {
      "image/png": "[encoded data removed]",
      "text/plain": [
       "<Figure size 840x360 with 1 Axes>"
      ]
     },
     "metadata": {
      "needs_background": "light"
     },
     "output_type": "display_data"
    }
   ],
   "source": [
    "plt.plot(history.history['loss'])\n",
    "plt.plot(history.history['val_loss'])\n",
    "plt.title('model loss')\n",
    "plt.ylabel('loss')\n",
    "plt.xlabel('epoch')\n",
    "plt.legend(['train', 'test'], loc='upper left')\n",
    "plt.show()"
   ]
  },
  {
   "cell_type": "markdown",
   "metadata": {},
   "source": [
    "Podobnou vizualizaci lze najít např. <a href=\"https://www.cs.ryerson.ca/~aharley/vis/conv/flat.html\">zde</a>."
   ]
  }
 ],
 "metadata": {
  "kernelspec": {
   "display_name": "Python 3",
   "language": "python",
   "name": "python3"
  },
  "language_info": {
   "codemirror_mode": {
    "name": "ipython",
    "version": 3
   },
   "file_extension": ".py",
   "mimetype": "text/x-python",
   "name": "python",
   "nbconvert_exporter": "python",
   "pygments_lexer": "ipython3",
   "version": "3.7.9"
  }
 },
 "nbformat": 4,
 "nbformat_minor": 4
}
