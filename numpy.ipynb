{
 "cells": [
  {
   "cell_type": "code",
   "execution_count": 2,
   "metadata": {},
   "outputs": [
    {
     "name": "stdout",
     "output_type": "stream",
     "text": [
      "elapsed time = 0.028583526611328125\n",
      "used memoty = 824456\n"
     ]
    }
   ],
   "source": [
    "import random\n",
    "import time\n",
    "import sys\n",
    "\n",
    "n = 100_000\n",
    "\n",
    "# two lists of n random numbers from 0 to 99\n",
    "x = [random.randrange(100) for _ in range(n)]\n",
    "y = [random.randrange(100) for _ in range(n)]\n",
    "\n",
    "#start counting time\n",
    "start = time.time()\n",
    "\n",
    "#make a list by multiplying the elements of the lists\n",
    "i, z = 0, []\n",
    "while i < n:\n",
    "    z.append(x[i] * y[i])\n",
    "    i += 1\n",
    "    \n",
    "#print elapsed time and memory\n",
    "end = time.time()\n",
    "mem = sys.getsizeof(z)\n",
    "print('elapsed time = {}\\nused memoty = {}'.format(end-start, mem))"
   ]
  },
  {
   "cell_type": "markdown",
   "metadata": {},
   "source": [
    "## Jak zrychlit?"
   ]
  },
  {
   "cell_type": "markdown",
   "metadata": {},
   "source": [
    "C++\n",
    "* není zapotřebí manipulovat s Pytnovskými objekty"
   ]
  },
  {
   "cell_type": "markdown",
   "metadata": {},
   "source": [
    "## Alternativa: Numpy"
   ]
  },
  {
   "cell_type": "code",
   "execution_count": 3,
   "metadata": {},
   "outputs": [
    {
     "name": "stdout",
     "output_type": "stream",
     "text": [
      "elapsed time = 0.002123117446899414\n",
      "used memoty = 800096\n"
     ]
    }
   ],
   "source": [
    "import numpy as np\n",
    "\n",
    "x = np.array(x)\n",
    "y = np.array(y)\n",
    "\n",
    "#start counting time\n",
    "start_alt = time.time()\n",
    "\n",
    "#...\n",
    "z = x * y\n",
    "\n",
    "#print elapsed time\n",
    "end_alt = time.time()\n",
    "mem_alt = sys.getsizeof(z)\n",
    "print('elapsed time = {}\\nused memoty = {}'.format(end_alt-start_alt, mem_alt))"
   ]
  },
  {
   "cell_type": "code",
   "execution_count": 4,
   "metadata": {},
   "outputs": [
    {
     "data": {
      "text/plain": [
       "0.02646040916442871"
      ]
     },
     "execution_count": 4,
     "metadata": {},
     "output_type": "execute_result"
    }
   ],
   "source": [
    " (end-start) - (end_alt-start_alt)"
   ]
  },
  {
   "cell_type": "code",
   "execution_count": 5,
   "metadata": {},
   "outputs": [
    {
     "data": {
      "text/plain": [
       "24360"
      ]
     },
     "execution_count": 5,
     "metadata": {},
     "output_type": "execute_result"
    }
   ],
   "source": [
    "mem - mem_alt"
   ]
  },
  {
   "cell_type": "markdown",
   "metadata": {},
   "source": [
    "# NumPy\n",
    "* základní balíček pro vědecké výpočty v Pythonu\n",
    "* operace mezi prvky jsou provedeny v překompilovaném C nebo Fortrunu\n",
    "* vektorizovaný kód\n",
    " * \"zmizel\" nám for loop\n",
    " * méně řádků = méně bugů\n",
    " \n",
    " ## ndarray\n",
    "* n-rozměrné homogenní pole\n",
    "* můžeme vytvořit z **listu** nebo tuplu\n",
    "* vícerozměré pole je vytvořeno jako sekvence ze sekvencí"
   ]
  },
  {
   "cell_type": "code",
   "execution_count": 6,
   "metadata": {},
   "outputs": [
    {
     "data": {
      "text/plain": [
       "array([1, 2, 3])"
      ]
     },
     "execution_count": 6,
     "metadata": {},
     "output_type": "execute_result"
    }
   ],
   "source": [
    "arr = np.array([1,2,3])\n",
    "arr"
   ]
  },
  {
   "cell_type": "code",
   "execution_count": 7,
   "metadata": {},
   "outputs": [
    {
     "data": {
      "text/plain": [
       "array([[1, 2, 3],\n",
       "       [4, 5, 6]])"
      ]
     },
     "execution_count": 7,
     "metadata": {},
     "output_type": "execute_result"
    }
   ],
   "source": [
    "arr2d = np.array([[1,2,3],[4,5,6]])\n",
    "arr2d"
   ]
  },
  {
   "cell_type": "markdown",
   "metadata": {},
   "source": [
    "* rozdíl mezi ndarray a std. sekvencemi:\n",
    " * homogenní\n",
    " * pevná velikost"
   ]
  },
  {
   "cell_type": "markdown",
   "metadata": {},
   "source": [
    "* same data type  (dtype)"
   ]
  },
  {
   "cell_type": "code",
   "execution_count": 8,
   "metadata": {},
   "outputs": [
    {
     "data": {
      "text/plain": [
       "array(['s', '1'], dtype='<U1')"
      ]
     },
     "execution_count": 8,
     "metadata": {},
     "output_type": "execute_result"
    }
   ],
   "source": [
    "arr = np.array(['s',1])\n",
    "arr"
   ]
  },
  {
   "cell_type": "code",
   "execution_count": 9,
   "metadata": {
    "scrolled": false
   },
   "outputs": [
    {
     "ename": "TypeError",
     "evalue": "can only concatenate str (not \"int\") to str",
     "output_type": "error",
     "traceback": [
      "\u001b[0;31m---------------------------------------------------------------------------\u001b[0m",
      "\u001b[0;31mTypeError\u001b[0m                                 Traceback (most recent call last)",
      "\u001b[0;32m<ipython-input-9-a02669c7cdc3>\u001b[0m in \u001b[0;36m<module>\u001b[0;34m\u001b[0m\n\u001b[0;32m----> 1\u001b[0;31m \u001b[0marr\u001b[0m\u001b[0;34m[\u001b[0m\u001b[0;36m1\u001b[0m\u001b[0;34m]\u001b[0m\u001b[0;34m+\u001b[0m\u001b[0;36m1\u001b[0m          \u001b[0;31m# ...ERROR\u001b[0m\u001b[0;34m\u001b[0m\u001b[0;34m\u001b[0m\u001b[0m\n\u001b[0m",
      "\u001b[0;31mTypeError\u001b[0m: can only concatenate str (not \"int\") to str"
     ]
    }
   ],
   "source": [
    "arr[1]+1          # ...ERROR"
   ]
  },
  {
   "cell_type": "markdown",
   "metadata": {},
   "source": [
    "   *  objekt jako dtype"
   ]
  },
  {
   "cell_type": "code",
   "execution_count": 10,
   "metadata": {},
   "outputs": [
    {
     "data": {
      "text/plain": [
       "array(['s', list([1, 2])], dtype=object)"
      ]
     },
     "execution_count": 10,
     "metadata": {},
     "output_type": "execute_result"
    }
   ],
   "source": [
    "arr = np.array(['s',[1,2]])\n",
    "arr"
   ]
  },
  {
   "cell_type": "markdown",
   "metadata": {},
   "source": [
    "### důležité attributy: "
   ]
  },
  {
   "cell_type": "markdown",
   "metadata": {},
   "source": [
    "* ndim"
   ]
  },
  {
   "cell_type": "code",
   "execution_count": 11,
   "metadata": {},
   "outputs": [
    {
     "data": {
      "text/plain": [
       "2"
      ]
     },
     "execution_count": 11,
     "metadata": {},
     "output_type": "execute_result"
    }
   ],
   "source": [
    "arr = np.array([[1,1,1],[2,2,2]])\n",
    "arr.ndim"
   ]
  },
  {
   "cell_type": "markdown",
   "metadata": {},
   "source": [
    "při použití objeků..."
   ]
  },
  {
   "cell_type": "code",
   "execution_count": 12,
   "metadata": {},
   "outputs": [
    {
     "data": {
      "text/plain": [
       "1"
      ]
     },
     "execution_count": 12,
     "metadata": {},
     "output_type": "execute_result"
    }
   ],
   "source": [
    "arr = np.array([[1,1],[1,2,3]])\n",
    "arr.ndim"
   ]
  },
  {
   "cell_type": "markdown",
   "metadata": {},
   "source": [
    "* tvar (shape)"
   ]
  },
  {
   "cell_type": "code",
   "execution_count": 13,
   "metadata": {},
   "outputs": [
    {
     "data": {
      "text/plain": [
       "(2, 3)"
      ]
     },
     "execution_count": 13,
     "metadata": {},
     "output_type": "execute_result"
    }
   ],
   "source": [
    "arr = np.array([[1,1,1],[2,2,2]])\n",
    "arr.shape"
   ]
  },
  {
   "cell_type": "markdown",
   "metadata": {},
   "source": [
    "* velikost (size)"
   ]
  },
  {
   "cell_type": "code",
   "execution_count": 14,
   "metadata": {},
   "outputs": [
    {
     "data": {
      "text/plain": [
       "6"
      ]
     },
     "execution_count": 14,
     "metadata": {},
     "output_type": "execute_result"
    }
   ],
   "source": [
    "arr.size"
   ]
  },
  {
   "cell_type": "markdown",
   "metadata": {},
   "source": [
    "* typ dat (dtype)"
   ]
  },
  {
   "cell_type": "code",
   "execution_count": 15,
   "metadata": {},
   "outputs": [
    {
     "data": {
      "text/plain": [
       "dtype('int64')"
      ]
     },
     "execution_count": 15,
     "metadata": {},
     "output_type": "execute_result"
    }
   ],
   "source": [
    "arr.dtype"
   ]
  },
  {
   "cell_type": "markdown",
   "metadata": {},
   "source": [
    "* veklikost prvku (itemsize)"
   ]
  },
  {
   "cell_type": "code",
   "execution_count": 16,
   "metadata": {
    "scrolled": true
   },
   "outputs": [
    {
     "name": "stdout",
     "output_type": "stream",
     "text": [
      "8\n"
     ]
    },
    {
     "data": {
      "text/plain": [
       "24"
      ]
     },
     "execution_count": 16,
     "metadata": {},
     "output_type": "execute_result"
    }
   ],
   "source": [
    "print(arr.itemsize)\n",
    "sys.getsizeof(int())"
   ]
  },
  {
   "cell_type": "markdown",
   "metadata": {},
   "source": [
    "* data"
   ]
  },
  {
   "cell_type": "code",
   "execution_count": 17,
   "metadata": {},
   "outputs": [
    {
     "data": {
      "text/plain": [
       "<memory at 0x7f50f06315f0>"
      ]
     },
     "execution_count": 17,
     "metadata": {},
     "output_type": "execute_result"
    }
   ],
   "source": [
    "arr.data"
   ]
  },
  {
   "cell_type": "markdown",
   "metadata": {},
   "source": [
    "## Základní operace"
   ]
  },
  {
   "cell_type": "code",
   "execution_count": 18,
   "metadata": {},
   "outputs": [
    {
     "data": {
      "text/plain": [
       "array([[ 2,  4,  6,  8],\n",
       "       [16, 18, 20, 22]])"
      ]
     },
     "execution_count": 18,
     "metadata": {},
     "output_type": "execute_result"
    }
   ],
   "source": [
    "arr2d = np.array([[1,2,3,4],[8,9,10,11]])\n",
    "arr2d+arr2d"
   ]
  },
  {
   "cell_type": "code",
   "execution_count": 19,
   "metadata": {},
   "outputs": [
    {
     "data": {
      "text/plain": [
       "array([[0, 0, 0, 0],\n",
       "       [0, 0, 0, 0]])"
      ]
     },
     "execution_count": 19,
     "metadata": {},
     "output_type": "execute_result"
    }
   ],
   "source": [
    "arr2d-arr2d"
   ]
  },
  {
   "cell_type": "code",
   "execution_count": 20,
   "metadata": {},
   "outputs": [
    {
     "data": {
      "text/plain": [
       "array([[  1,   4,   9,  16],\n",
       "       [ 64,  81, 100, 121]])"
      ]
     },
     "execution_count": 20,
     "metadata": {},
     "output_type": "execute_result"
    }
   ],
   "source": [
    "arr2d*arr2d"
   ]
  },
  {
   "cell_type": "code",
   "execution_count": 21,
   "metadata": {},
   "outputs": [
    {
     "data": {
      "text/plain": [
       "array([[1.        , 0.5       , 0.33333333, 0.25      ],\n",
       "       [0.125     , 0.11111111, 0.1       , 0.09090909]])"
      ]
     },
     "execution_count": 21,
     "metadata": {},
     "output_type": "execute_result"
    }
   ],
   "source": [
    "1/arr2d"
   ]
  },
  {
   "cell_type": "code",
   "execution_count": 22,
   "metadata": {
    "scrolled": true
   },
   "outputs": [
    {
     "data": {
      "text/plain": [
       "array([[  1,   4,   9,  16],\n",
       "       [ 64,  81, 100, 121]])"
      ]
     },
     "execution_count": 22,
     "metadata": {},
     "output_type": "execute_result"
    }
   ],
   "source": [
    "arr2d**2"
   ]
  },
  {
   "cell_type": "markdown",
   "metadata": {},
   "source": [
    "## Broadcasting\n",
    "* aneb když máme 2 pole o jiných rozměrech"
   ]
  },
  {
   "cell_type": "code",
   "execution_count": 23,
   "metadata": {},
   "outputs": [
    {
     "data": {
      "text/plain": [
       "array([[0, 1, 2],\n",
       "       [3, 4, 5]])"
      ]
     },
     "execution_count": 23,
     "metadata": {},
     "output_type": "execute_result"
    }
   ],
   "source": [
    "arr = np.arange(6)  # creates an array of integers from 0 to 6\n",
    "arr.resize((2,3))  # reshapes it into a matrix\n",
    "arr"
   ]
  },
  {
   "cell_type": "code",
   "execution_count": 24,
   "metadata": {},
   "outputs": [
    {
     "data": {
      "text/plain": [
       "array([[0, 2, 5],\n",
       "       [3, 5, 8]])"
      ]
     },
     "execution_count": 24,
     "metadata": {},
     "output_type": "execute_result"
    }
   ],
   "source": [
    "arr2 = np.array([[0,1,3]])\n",
    "arr + arr2"
   ]
  },
  {
   "cell_type": "markdown",
   "metadata": {},
   "source": [
    "* NumPy porovná the shapes of the two arrays\n",
    "* 2 dimenze jsou kompatibilní, pokud jsou stejné nebo jedna z nich je rovna 1"
   ]
  },
  {
   "cell_type": "code",
   "execution_count": 25,
   "metadata": {},
   "outputs": [
    {
     "ename": "ValueError",
     "evalue": "operands could not be broadcast together with shapes (2,3) (1,2) ",
     "output_type": "error",
     "traceback": [
      "\u001b[0;31m---------------------------------------------------------------------------\u001b[0m",
      "\u001b[0;31mValueError\u001b[0m                                Traceback (most recent call last)",
      "\u001b[0;32m<ipython-input-25-d72b737ce3be>\u001b[0m in \u001b[0;36m<module>\u001b[0;34m\u001b[0m\n\u001b[1;32m      1\u001b[0m \u001b[0;31m# if not...\u001b[0m\u001b[0;34m\u001b[0m\u001b[0;34m\u001b[0m\u001b[0;34m\u001b[0m\u001b[0m\n\u001b[1;32m      2\u001b[0m \u001b[0marr2\u001b[0m \u001b[0;34m=\u001b[0m \u001b[0mnp\u001b[0m\u001b[0;34m.\u001b[0m\u001b[0marray\u001b[0m\u001b[0;34m(\u001b[0m\u001b[0;34m[\u001b[0m\u001b[0;34m[\u001b[0m\u001b[0;36m0\u001b[0m\u001b[0;34m,\u001b[0m\u001b[0;36m1\u001b[0m\u001b[0;34m]\u001b[0m\u001b[0;34m]\u001b[0m\u001b[0;34m)\u001b[0m\u001b[0;34m\u001b[0m\u001b[0;34m\u001b[0m\u001b[0m\n\u001b[0;32m----> 3\u001b[0;31m \u001b[0marr\u001b[0m \u001b[0;34m+\u001b[0m \u001b[0marr2\u001b[0m\u001b[0;34m\u001b[0m\u001b[0;34m\u001b[0m\u001b[0m\n\u001b[0m",
      "\u001b[0;31mValueError\u001b[0m: operands could not be broadcast together with shapes (2,3) (1,2) "
     ]
    }
   ],
   "source": [
    "# if not...\n",
    "arr2 = np.array([[0,1]])\n",
    "arr + arr2"
   ]
  },
  {
   "cell_type": "markdown",
   "metadata": {},
   "source": [
    "## Indexování"
   ]
  },
  {
   "cell_type": "code",
   "execution_count": 26,
   "metadata": {},
   "outputs": [
    {
     "data": {
      "text/plain": [
       "array([[ 0.,  1.,  2.,  3.,  4.,  5.],\n",
       "       [10., 11., 12., 13., 14., 15.],\n",
       "       [20., 21., 22., 23., 24., 25.],\n",
       "       [30., 31., 32., 33., 34., 35.],\n",
       "       [40., 41., 42., 43., 44., 45.],\n",
       "       [50., 51., 52., 53., 54., 55.]])"
      ]
     },
     "execution_count": 26,
     "metadata": {},
     "output_type": "execute_result"
    }
   ],
   "source": [
    "def basic_array():\n",
    "    arr2d = np.zeros((6,6))\n",
    "    for i in range(6):\n",
    "        for j in range(6):\n",
    "            arr2d[i,j] = 10*i+j\n",
    "    return arr2d\n",
    "\n",
    "arr2d = basic_array()\n",
    "arr2d"
   ]
  },
  {
   "cell_type": "code",
   "execution_count": 27,
   "metadata": {},
   "outputs": [
    {
     "data": {
      "text/plain": [
       "1.0"
      ]
     },
     "execution_count": 27,
     "metadata": {},
     "output_type": "execute_result"
    }
   ],
   "source": [
    "arr2d[0][1]"
   ]
  },
  {
   "cell_type": "code",
   "execution_count": 28,
   "metadata": {},
   "outputs": [
    {
     "data": {
      "text/plain": [
       "1.0"
      ]
     },
     "execution_count": 28,
     "metadata": {},
     "output_type": "execute_result"
    }
   ],
   "source": [
    "arr2d[0,1]"
   ]
  },
  {
   "cell_type": "markdown",
   "metadata": {},
   "source": [
    "### Indexování - Fancy Indexing\n",
    "* lze použít list intů jako index\n",
    "* inty nemusí být seřazené"
   ]
  },
  {
   "cell_type": "code",
   "execution_count": 29,
   "metadata": {},
   "outputs": [
    {
     "data": {
      "text/plain": [
       "array([[40., 41., 42., 43., 44., 45.],\n",
       "       [20., 21., 22., 23., 24., 25.]])"
      ]
     },
     "execution_count": 29,
     "metadata": {},
     "output_type": "execute_result"
    }
   ],
   "source": [
    "l1 = [4,2]\n",
    "arr2d = basic_array()\n",
    "arr2d[l1]"
   ]
  },
  {
   "cell_type": "code",
   "execution_count": 30,
   "metadata": {},
   "outputs": [
    {
     "data": {
      "text/plain": [
       "array([[ 0.,  1.,  0.,  3.,  0.,  5.],\n",
       "       [10., 11.,  0., 13.,  0., 15.],\n",
       "       [20., 21.,  0., 23.,  0., 25.],\n",
       "       [30., 31.,  0., 33.,  0., 35.],\n",
       "       [40., 41.,  0., 43.,  0., 45.],\n",
       "       [50., 51.,  0., 53.,  0., 55.]])"
      ]
     },
     "execution_count": 30,
     "metadata": {},
     "output_type": "execute_result"
    }
   ],
   "source": [
    "arr2d[:,l1] = 0\n",
    "arr2d"
   ]
  },
  {
   "cell_type": "code",
   "execution_count": 31,
   "metadata": {},
   "outputs": [
    {
     "ename": "IndexError",
     "evalue": "shape mismatch: indexing arrays could not be broadcast together with shapes (2,) (3,) ",
     "output_type": "error",
     "traceback": [
      "\u001b[0;31m---------------------------------------------------------------------------\u001b[0m",
      "\u001b[0;31mIndexError\u001b[0m                                Traceback (most recent call last)",
      "\u001b[0;32m<ipython-input-31-6b9e07ee6d7f>\u001b[0m in \u001b[0;36m<module>\u001b[0;34m\u001b[0m\n\u001b[1;32m      1\u001b[0m \u001b[0;31m# ...ERROR\u001b[0m\u001b[0;34m\u001b[0m\u001b[0;34m\u001b[0m\u001b[0;34m\u001b[0m\u001b[0m\n\u001b[1;32m      2\u001b[0m \u001b[0ml2\u001b[0m \u001b[0;34m=\u001b[0m \u001b[0;34m[\u001b[0m\u001b[0;36m0\u001b[0m\u001b[0;34m,\u001b[0m\u001b[0;36m1\u001b[0m\u001b[0;34m,\u001b[0m\u001b[0;36m3\u001b[0m\u001b[0;34m]\u001b[0m\u001b[0;34m\u001b[0m\u001b[0;34m\u001b[0m\u001b[0m\n\u001b[0;32m----> 3\u001b[0;31m \u001b[0marr2d\u001b[0m\u001b[0;34m[\u001b[0m\u001b[0ml1\u001b[0m\u001b[0;34m,\u001b[0m \u001b[0ml2\u001b[0m\u001b[0;34m]\u001b[0m\u001b[0;34m\u001b[0m\u001b[0;34m\u001b[0m\u001b[0m\n\u001b[0m",
      "\u001b[0;31mIndexError\u001b[0m: shape mismatch: indexing arrays could not be broadcast together with shapes (2,) (3,) "
     ]
    }
   ],
   "source": [
    "# ...ERROR\n",
    "l2 = [0,1,3]\n",
    "arr2d[l1, l2]"
   ]
  },
  {
   "cell_type": "markdown",
   "metadata": {},
   "source": [
    "Co se stalo?"
   ]
  },
  {
   "cell_type": "code",
   "execution_count": 32,
   "metadata": {},
   "outputs": [
    {
     "data": {
      "text/plain": [
       "array([11.,  0., 33.])"
      ]
     },
     "execution_count": 32,
     "metadata": {},
     "output_type": "execute_result"
    }
   ],
   "source": [
    "arr2d[[1,2,3],[1,2,3]]"
   ]
  },
  {
   "cell_type": "markdown",
   "metadata": {},
   "source": [
    "Můžeme provést toto"
   ]
  },
  {
   "cell_type": "code",
   "execution_count": 33,
   "metadata": {},
   "outputs": [
    {
     "data": {
      "text/plain": [
       "array([[40., 41., 43.],\n",
       "       [20., 21., 23.]])"
      ]
     },
     "execution_count": 33,
     "metadata": {},
     "output_type": "execute_result"
    }
   ],
   "source": [
    "arr2d[l1][:,l2]"
   ]
  },
  {
   "cell_type": "markdown",
   "metadata": {},
   "source": [
    "ale potom nefunguje přiřazování"
   ]
  },
  {
   "cell_type": "code",
   "execution_count": 34,
   "metadata": {},
   "outputs": [
    {
     "data": {
      "text/plain": [
       "array([[ 0.,  1.,  0.,  3.,  0.,  5.],\n",
       "       [10., 11.,  0., 13.,  0., 15.],\n",
       "       [20., 21.,  0., 23.,  0., 25.],\n",
       "       [30., 31.,  0., 33.,  0., 35.],\n",
       "       [40., 41.,  0., 43.,  0., 45.],\n",
       "       [50., 51.,  0., 53.,  0., 55.]])"
      ]
     },
     "execution_count": 34,
     "metadata": {},
     "output_type": "execute_result"
    }
   ],
   "source": [
    "arr2d[l1][:,l2] = 99\n",
    "arr2d"
   ]
  },
  {
   "cell_type": "markdown",
   "metadata": {},
   "source": [
    "Co se tady děje..."
   ]
  },
  {
   "cell_type": "code",
   "execution_count": 35,
   "metadata": {},
   "outputs": [
    {
     "data": {
      "text/plain": [
       "array([[ 0.,  1.,  2.,  3.,  4.,  5.],\n",
       "       [10., 11., 12., 13., 14., 15.],\n",
       "       [20., 21., 22., 23., 24., 25.],\n",
       "       [30., 31., 32., 33., 34., 35.],\n",
       "       [40., 41., 42., 43., 44., 45.],\n",
       "       [50., 51., 52., 53., 54., 55.]])"
      ]
     },
     "execution_count": 35,
     "metadata": {},
     "output_type": "execute_result"
    }
   ],
   "source": [
    "arr2d = basic_array()\n",
    "arr2d"
   ]
  },
  {
   "cell_type": "code",
   "execution_count": 36,
   "metadata": {},
   "outputs": [
    {
     "name": "stdout",
     "output_type": "stream",
     "text": [
      "[[  0.   1.   2.   3.   4.   5.]\n",
      " [ 10.  11.  12.  13.  14.  15.]\n",
      " [100. 100. 100. 100. 100. 100.]\n",
      " [ 30.  31.  32.  33.  34.  35.]\n",
      " [100. 100. 100. 100. 100. 100.]\n",
      " [ 50.  51.  52.  53.  54.  55.]]\n",
      "\n",
      "\n",
      "[[ 0.  1.  2.  3.  4.  5.]\n",
      " [10. 11. 12. 13. 14. 15.]\n",
      " [ 0.  0.  0.  0.  0.  0.]\n",
      " [30. 31. 32. 33. 34. 35.]\n",
      " [ 0.  0.  0.  0.  0.  0.]\n",
      " [50. 51. 52. 53. 54. 55.]]\n"
     ]
    }
   ],
   "source": [
    "#this notation\n",
    "arr2d[l1] = 100\n",
    "print(arr2d)\n",
    "print(\"\\n\")\n",
    "# is equal to\n",
    "arr2d.__setitem__(l1, 0)\n",
    "print(arr2d)"
   ]
  },
  {
   "cell_type": "markdown",
   "metadata": {},
   "source": [
    "* není zapotřebí vytvořit view nebo copy (více dále)\n",
    "* tzn, nevytváří se žádný nový objekt"
   ]
  },
  {
   "cell_type": "code",
   "execution_count": 37,
   "metadata": {},
   "outputs": [
    {
     "name": "stdout",
     "output_type": "stream",
     "text": [
      "\n",
      "aux = \n",
      "[[ 0.  0. 42.  0. 44. 45.]\n",
      " [ 0.  0. 22.  0. 24. 25.]]\n",
      "\n",
      "arr2d =\n",
      "[[ 0.  1.  2.  3.  4.  5.]\n",
      " [10. 11. 12. 13. 14. 15.]\n",
      " [20. 21. 22. 23. 24. 25.]\n",
      " [30. 31. 32. 33. 34. 35.]\n",
      " [40. 41. 42. 43. 44. 45.]\n",
      " [50. 51. 52. 53. 54. 55.]]\n"
     ]
    }
   ],
   "source": [
    "arr2d = basic_array()\n",
    "# However...\n",
    "arr2d[l1][:,l2] = 100\n",
    "# this notation is equal to\n",
    "aux = arr2d.__getitem__(l1)     # creation of new object\n",
    "aux.T.__setitem__(l2, 0)\n",
    "print('\\naux = \\n{}\\n\\narr2d =\\n{}'.format(aux, arr2d))"
   ]
  },
  {
   "cell_type": "markdown",
   "metadata": {},
   "source": [
    "## View and Copy\n",
    "* view: nový pohled na ten samý úsek paměti\n",
    "* copy: kopie paměti v jiné lokaci\n",
    "\n",
    "\n",
    "### View"
   ]
  },
  {
   "cell_type": "code",
   "execution_count": 38,
   "metadata": {},
   "outputs": [
    {
     "name": "stdout",
     "output_type": "stream",
     "text": [
      "arr = [100 200   2   3   4]\n",
      "aux = [100 200   2   3   4]\n"
     ]
    }
   ],
   "source": [
    "arr = np.arange(5)   # base array\n",
    "aux = arr.view()     # view\n",
    "aux[0] = 100\n",
    "arr[1] = 200\n",
    "print('arr = {}'.format(arr))\n",
    "print('aux = {}'.format(aux))"
   ]
  },
  {
   "cell_type": "markdown",
   "metadata": {},
   "source": [
    ".base vrací None, pokud pole data vlastní, jinak vrací původní objekt"
   ]
  },
  {
   "cell_type": "code",
   "execution_count": 39,
   "metadata": {},
   "outputs": [
    {
     "data": {
      "text/plain": [
       "array([100, 200,   2,   3,   4])"
      ]
     },
     "execution_count": 39,
     "metadata": {},
     "output_type": "execute_result"
    }
   ],
   "source": [
    "aux.base"
   ]
  },
  {
   "cell_type": "markdown",
   "metadata": {},
   "source": [
    "* stejný výsledek mohu získat jako"
   ]
  },
  {
   "cell_type": "code",
   "execution_count": 40,
   "metadata": {},
   "outputs": [
    {
     "name": "stdout",
     "output_type": "stream",
     "text": [
      "arr = [100 200   2   3   4]\n",
      "aux = [100 200   2   3   4]\n"
     ]
    }
   ],
   "source": [
    "arr = np.arange(5)\n",
    "aux = arr\n",
    "aux[0] = 100\n",
    "arr[1] = 200\n",
    "print('arr = {}'.format(arr))\n",
    "print('aux = {}'.format(aux))"
   ]
  },
  {
   "cell_type": "markdown",
   "metadata": {},
   "source": [
    "* stačí =\n",
    "* co se děje?\n",
    " * pokud zavřeme obě oči (src jsem nestudoval): překlad do C++ v souboru view.cpp\n",
    "* jaký je tedy smysl .view()?      ... view casting (uvedeme za chvíli)"
   ]
  },
  {
   "cell_type": "markdown",
   "metadata": {},
   "source": [
    "#### View - slicing\n",
    "* speciální případ View\n",
    "* obdobná syntaxe jako u jiných Pytnovských objektů"
   ]
  },
  {
   "cell_type": "code",
   "execution_count": 41,
   "metadata": {
    "scrolled": true
   },
   "outputs": [
    {
     "data": {
      "text/plain": [
       "array([[  0.,   1.,   2.,   3.,   4.,   5.],\n",
       "       [ 10.,  11.,  12., 100., 100.,  15.],\n",
       "       [ 20.,  21.,  22., 100., 100.,  25.],\n",
       "       [ 30.,  31.,  32.,  33.,  34.,  35.],\n",
       "       [ 40.,  41.,  42.,  43.,  44.,  45.],\n",
       "       [ 50.,  51.,  52.,  53.,  54.,  55.]])"
      ]
     },
     "execution_count": 41,
     "metadata": {},
     "output_type": "execute_result"
    }
   ],
   "source": [
    "arr2d = basic_array()\n",
    "arr2d_slice = arr2d[1:3, 3:5]    # base array\n",
    "arr2d_slice[:] = 100              # view\n",
    "arr2d"
   ]
  },
  {
   "cell_type": "markdown",
   "metadata": {},
   "source": [
    "* problémy pokud kombinujeme slicing a fancy indexing"
   ]
  },
  {
   "cell_type": "code",
   "execution_count": 42,
   "metadata": {
    "scrolled": true
   },
   "outputs": [
    {
     "data": {
      "text/plain": [
       "array([[  0.,   1.,   2.,   3.,   4.,   5.],\n",
       "       [ 10.,  11.,  12., 100., 100.,  15.],\n",
       "       [ 20.,  21.,  22., 100., 100.,  25.],\n",
       "       [ 30.,  31.,  32.,  33.,  34.,  35.],\n",
       "       [ 40.,  41.,  42.,  43.,  44.,  45.],\n",
       "       [ 50.,  51.,  52.,  53.,  54.,  55.]])"
      ]
     },
     "execution_count": 42,
     "metadata": {},
     "output_type": "execute_result"
    }
   ],
   "source": [
    "arr2d_slice = arr2d[1:3, [2,3]]\n",
    "arr2d_slice[:] = 77\n",
    "arr2d"
   ]
  },
  {
   "cell_type": "markdown",
   "metadata": {},
   "source": [
    "#### Copy"
   ]
  },
  {
   "cell_type": "code",
   "execution_count": 43,
   "metadata": {},
   "outputs": [
    {
     "data": {
      "text/plain": [
       "array([[ 0.,  1.,  2.,  3.,  4.,  5.],\n",
       "       [10., 11., 12., 13., 14., 15.],\n",
       "       [20., 21., 22., 23., 24., 25.],\n",
       "       [30., 31., 32., 33., 34., 35.],\n",
       "       [40., 41., 42., 43., 44., 45.],\n",
       "       [50., 51., 52., 53., 54., 55.]])"
      ]
     },
     "execution_count": 43,
     "metadata": {},
     "output_type": "execute_result"
    }
   ],
   "source": [
    "arr2d = basic_array()\n",
    "arr2d_slice = arr2d[1:3, 3:5].copy()\n",
    "arr2d_slice[:] = 100\n",
    "arr2d"
   ]
  },
  {
   "cell_type": "code",
   "execution_count": 44,
   "metadata": {},
   "outputs": [
    {
     "data": {
      "text/plain": [
       "array([[100., 100.],\n",
       "       [100., 100.]])"
      ]
     },
     "execution_count": 44,
     "metadata": {},
     "output_type": "execute_result"
    }
   ],
   "source": [
    "arr2d_slice"
   ]
  },
  {
   "cell_type": "code",
   "execution_count": 45,
   "metadata": {},
   "outputs": [
    {
     "name": "stdout",
     "output_type": "stream",
     "text": [
      "None\n"
     ]
    }
   ],
   "source": [
    "print(arr2d_slice.base)"
   ]
  },
  {
   "cell_type": "markdown",
   "metadata": {},
   "source": [
    "#### Která úprava změní původní pole?"
   ]
  },
  {
   "cell_type": "code",
   "execution_count": 46,
   "metadata": {},
   "outputs": [
    {
     "data": {
      "text/plain": [
       "array([[100,   2, 100],\n",
       "       [  4,   5,   6],\n",
       "       [  7,   8,   9]])"
      ]
     },
     "execution_count": 46,
     "metadata": {},
     "output_type": "execute_result"
    }
   ],
   "source": [
    "arr2d = np.array([[1,2,3],[4,5,6],[7,8,9]])\n",
    "l1 = [0,2]\n",
    "\n",
    "arr2d[:1, :][:, l1] = 100\n",
    "arr2d"
   ]
  },
  {
   "cell_type": "code",
   "execution_count": 47,
   "metadata": {},
   "outputs": [
    {
     "data": {
      "text/plain": [
       "array([[1, 2, 3],\n",
       "       [4, 5, 6],\n",
       "       [7, 8, 9]])"
      ]
     },
     "execution_count": 47,
     "metadata": {},
     "output_type": "execute_result"
    }
   ],
   "source": [
    "arr2d = np.array([[1,2,3],[4,5,6],[7,8,9]])\n",
    "l1 = [0,2]\n",
    "\n",
    "arr2d[l1, :][:, :1] = 100\n",
    "arr2d"
   ]
  },
  {
   "cell_type": "markdown",
   "metadata": {},
   "source": [
    "## Indexování - Boolean indexing"
   ]
  },
  {
   "cell_type": "code",
   "execution_count": 48,
   "metadata": {},
   "outputs": [
    {
     "data": {
      "text/plain": [
       "array([ True,  True, False, False, False])"
      ]
     },
     "execution_count": 48,
     "metadata": {},
     "output_type": "execute_result"
    }
   ],
   "source": [
    "arr = np.array([1,2,3,4,5])\n",
    "arr < 3"
   ]
  },
  {
   "cell_type": "markdown",
   "metadata": {},
   "source": [
    "* lze použít 2 podmínky, tak jak normálně v Pythonu?"
   ]
  },
  {
   "cell_type": "code",
   "execution_count": 49,
   "metadata": {},
   "outputs": [
    {
     "ename": "ValueError",
     "evalue": "The truth value of an array with more than one element is ambiguous. Use a.any() or a.all()",
     "output_type": "error",
     "traceback": [
      "\u001b[0;31m---------------------------------------------------------------------------\u001b[0m",
      "\u001b[0;31mValueError\u001b[0m                                Traceback (most recent call last)",
      "\u001b[0;32m<ipython-input-49-51c4e4ded3ef>\u001b[0m in \u001b[0;36m<module>\u001b[0;34m\u001b[0m\n\u001b[0;32m----> 1\u001b[0;31m \u001b[0marr\u001b[0m \u001b[0;34m<\u001b[0m \u001b[0;36m3\u001b[0m \u001b[0;32mand\u001b[0m \u001b[0marr\u001b[0m \u001b[0;34m>\u001b[0m \u001b[0;36m1\u001b[0m\u001b[0;34m\u001b[0m\u001b[0;34m\u001b[0m\u001b[0m\n\u001b[0m",
      "\u001b[0;31mValueError\u001b[0m: The truth value of an array with more than one element is ambiguous. Use a.any() or a.all()"
     ]
    }
   ],
   "source": [
    "arr < 3 and arr > 1"
   ]
  },
  {
   "cell_type": "markdown",
   "metadata": {},
   "source": [
    "* musíme použít značení v C++ (ale NEZDVOJUJEME) + závorky"
   ]
  },
  {
   "cell_type": "code",
   "execution_count": 50,
   "metadata": {},
   "outputs": [
    {
     "data": {
      "text/plain": [
       "array([False,  True, False, False, False])"
      ]
     },
     "execution_count": 50,
     "metadata": {},
     "output_type": "execute_result"
    }
   ],
   "source": [
    "(arr < 3) & (arr > 1)"
   ]
  },
  {
   "cell_type": "code",
   "execution_count": 51,
   "metadata": {},
   "outputs": [
    {
     "data": {
      "text/plain": [
       "array([ True,  True, False,  True,  True])"
      ]
     },
     "execution_count": 51,
     "metadata": {},
     "output_type": "execute_result"
    }
   ],
   "source": [
    "(arr < 3) | (arr > 3 )"
   ]
  },
  {
   "cell_type": "code",
   "execution_count": 52,
   "metadata": {},
   "outputs": [
    {
     "ename": "ValueError",
     "evalue": "The truth value of an array with more than one element is ambiguous. Use a.any() or a.all()",
     "output_type": "error",
     "traceback": [
      "\u001b[0;31m---------------------------------------------------------------------------\u001b[0m",
      "\u001b[0;31mValueError\u001b[0m                                Traceback (most recent call last)",
      "\u001b[0;32m<ipython-input-52-ff5e83e79321>\u001b[0m in \u001b[0;36m<module>\u001b[0;34m\u001b[0m\n\u001b[0;32m----> 1\u001b[0;31m \u001b[0marr\u001b[0m \u001b[0;34m<\u001b[0m \u001b[0;36m3\u001b[0m \u001b[0;34m|\u001b[0m \u001b[0marr\u001b[0m \u001b[0;34m>\u001b[0m \u001b[0;36m3\u001b[0m\u001b[0;34m\u001b[0m\u001b[0;34m\u001b[0m\u001b[0m\n\u001b[0m",
      "\u001b[0;31mValueError\u001b[0m: The truth value of an array with more than one element is ambiguous. Use a.any() or a.all()"
     ]
    }
   ],
   "source": [
    "arr < 3 | arr > 3"
   ]
  },
  {
   "cell_type": "markdown",
   "metadata": {},
   "source": [
    "* indexování"
   ]
  },
  {
   "cell_type": "code",
   "execution_count": 53,
   "metadata": {},
   "outputs": [
    {
     "data": {
      "text/plain": [
       "array([ 1, 99,  3,  4,  5])"
      ]
     },
     "execution_count": 53,
     "metadata": {},
     "output_type": "execute_result"
    }
   ],
   "source": [
    "arr[(arr < 3) & (arr > 1)] = 99\n",
    "arr"
   ]
  },
  {
   "cell_type": "markdown",
   "metadata": {},
   "source": [
    "## Subclassing\n",
    "* view casting - vytvoří pohled na existující pole jako specializovanou podtřídu\n",
    "* Dispatch mechanism - tvorba vlastních kontainerů polí\n",
    "### view casting"
   ]
  },
  {
   "cell_type": "code",
   "execution_count": 54,
   "metadata": {
    "scrolled": true
   },
   "outputs": [
    {
     "name": "stdout",
     "output_type": "stream",
     "text": [
      "before: c_arr = [0 1 2 3 4]\n",
      "after:  c_arr = [100   1   2   3   4]\n",
      "after:  arr   = [100   1   2   3   4]\n"
     ]
    }
   ],
   "source": [
    "class C(np.ndarray):        \n",
    "    def my_func(self):\n",
    "        self[0] += 100\n",
    "arr = np.arange(5)\n",
    "c_arr = arr.view(C)\n",
    "print('before: c_arr = {}'.format(c_arr))\n",
    "c_arr.my_func()\n",
    "print('after:  c_arr = {}'.format(c_arr))\n",
    "print('after:  arr   = {}'.format(arr))"
   ]
  },
  {
   "cell_type": "code",
   "execution_count": 55,
   "metadata": {
    "scrolled": false
   },
   "outputs": [
    {
     "data": {
      "text/plain": [
       "array([100,   1,   2,   3,   4])"
      ]
     },
     "execution_count": 55,
     "metadata": {},
     "output_type": "execute_result"
    }
   ],
   "source": [
    "c_arr.base"
   ]
  },
  {
   "cell_type": "markdown",
   "metadata": {},
   "source": [
    "* nestačí to jenom přetypovat?"
   ]
  },
  {
   "cell_type": "code",
   "execution_count": 56,
   "metadata": {},
   "outputs": [
    {
     "data": {
      "text/plain": [
       "C([[[[[4.04738577e-320, 1.81816158e-321, 0.00000000e+000,\n",
       "       2.56691688e-316],\n",
       "      [4.94065646e-324, 2.56692953e-316, 4.94065646e-324,\n",
       "       2.56691846e-316],\n",
       "      [1.18575755e-322, 6.91623619e-310, 6.91622088e-310,\n",
       "       1.06099790e-313]],\n",
       "\n",
       "     [[4.94065646e-324, 6.36598737e-314, 6.36598738e-314,\n",
       "       6.91623640e-310],\n",
       "      [6.91622088e-310, 2.12199579e-313, 1.27319747e-313,\n",
       "       1.48539705e-313],\n",
       "      [4.94065646e-324, 2.56692399e-316, 1.18575755e-322,\n",
       "       6.91623611e-310]]]],\n",
       "\n",
       "\n",
       "\n",
       "   [[[[4.94065646e-324, 1.18575755e-322, 1.69759663e-313,\n",
       "       2.33419537e-313],\n",
       "      [0.00000000e+000, 0.00000000e+000, 2.33419537e-313,\n",
       "       2.56692083e-316],\n",
       "      [2.56692320e-316, 2.56692636e-316, 1.27319747e-313,\n",
       "       2.54639495e-313]],\n",
       "\n",
       "     [[2.54639495e-313, 2.56691767e-316, 2.56692715e-316,\n",
       "       0.00000000e+000],\n",
       "      [0.00000000e+000, 8.06358401e-313, 0.00000000e+000,\n",
       "       4.94065646e-324],\n",
       "      [2.54639495e-313, 0.00000000e+000, 0.00000000e+000,\n",
       "       6.91622088e-310]]]],\n",
       "\n",
       "\n",
       "\n",
       "   [[[[2.56691688e-316, 2.56693308e-316, 9.88131292e-324,\n",
       "       6.36598737e-314],\n",
       "      [1.08694442e-322, 2.56693348e-316, 2.56691688e-316,\n",
       "       2.56693545e-316],\n",
       "      [0.00000000e+000, 4.44659081e-323, 8.27578359e-313,\n",
       "       9.88131292e-324]],\n",
       "\n",
       "     [[6.36598737e-314, 0.00000000e+000, 0.00000000e+000,\n",
       "       4.94065646e-324],\n",
       "      [2.56691688e-316, 2.56693941e-316, 1.27319875e-313,\n",
       "       0.00000000e+000],\n",
       "      [0.00000000e+000, 2.12201615e-314, 0.00000000e+000,\n",
       "       0.00000000e+000]]]],\n",
       "\n",
       "\n",
       "\n",
       "   ...,\n",
       "\n",
       "\n",
       "\n",
       "   [[[[4.94065646e-324, 4.26990503e-317, 6.91620793e-310,\n",
       "       9.88131292e-324],\n",
       "      [4.26982598e-317, 6.91620793e-310, 4.94065646e-324,\n",
       "       4.26980622e-317],\n",
       "      [6.91620795e-310, 1.97626258e-323, 4.27022123e-317,\n",
       "       6.91620792e-310]],\n",
       "\n",
       "     [[9.88131292e-324, 4.27020147e-317, 6.91620793e-310,\n",
       "       9.88131292e-324],\n",
       "      [4.27018171e-317, 6.91620793e-310, 4.94065646e-324,\n",
       "       4.27016195e-317],\n",
       "      [6.91620793e-310, 9.88131292e-324, 4.27014218e-317,\n",
       "       6.91620793e-310]]]],\n",
       "\n",
       "\n",
       "\n",
       "   [[[[4.94065646e-324, 4.27012242e-317, 6.91620793e-310,\n",
       "       4.94065646e-324],\n",
       "      [4.27010266e-317, 6.91620793e-310, 4.94065646e-324,\n",
       "       4.27008290e-317],\n",
       "      [6.91620793e-310, 4.94065646e-324, 4.27006313e-317,\n",
       "       6.91620793e-310]],\n",
       "\n",
       "     [[4.94065646e-324, 4.27004337e-317, 6.91620793e-310,\n",
       "       4.94065646e-324],\n",
       "      [4.27002361e-317, 6.91620793e-310, 4.94065646e-324,\n",
       "       4.26996432e-317],\n",
       "      [6.91620793e-310, 9.88131292e-324, 4.26994456e-317,\n",
       "       6.91620793e-310]]]],\n",
       "\n",
       "\n",
       "\n",
       "   [[[[4.94065646e-324, 4.26992480e-317, 6.91620793e-310,\n",
       "       4.94065646e-324],\n",
       "      [4.26990503e-317, 6.91620793e-310, 9.88131292e-324,\n",
       "       4.26982598e-317],\n",
       "      [6.91620793e-310, 4.94065646e-324, 4.26980622e-317,\n",
       "       6.91620795e-310]],\n",
       "\n",
       "     [[1.97626258e-323, 4.27022123e-317, 6.91620792e-310,\n",
       "       9.88131292e-324],\n",
       "      [4.27020147e-317, 6.91620793e-310, 9.88131292e-324,\n",
       "       4.27018171e-317],\n",
       "      [6.91620793e-310, 4.94065646e-324, 4.27016195e-317,\n",
       "       6.91620793e-310]]]]])"
      ]
     },
     "execution_count": 56,
     "metadata": {},
     "output_type": "execute_result"
    }
   ],
   "source": [
    "aux = C(arr)\n",
    "aux"
   ]
  },
  {
   "cell_type": "markdown",
   "metadata": {},
   "source": [
    "### Dispatch mechanism\n",
    "* doporučený přístup\n",
    "* př: CuPy arrays (n-rozměrná pole na GPU)\n",
    "* užití \\_\\_array__()"
   ]
  },
  {
   "cell_type": "code",
   "execution_count": 57,
   "metadata": {},
   "outputs": [
    {
     "data": {
      "text/plain": [
       "array([[2., 0., 0., 0., 0.],\n",
       "       [0., 2., 0., 0., 0.],\n",
       "       [0., 0., 2., 0., 0.],\n",
       "       [0., 0., 0., 2., 0.],\n",
       "       [0., 0., 0., 0., 2.]])"
      ]
     },
     "execution_count": 57,
     "metadata": {},
     "output_type": "execute_result"
    }
   ],
   "source": [
    "class Diagonal:\n",
    "    def __init__(self, N, value):\n",
    "        self.N = N\n",
    "        self.value = value\n",
    "    def __array__(self):\n",
    "        return self.value * np.eye(5)\n",
    "arr = Diagonal(5,2)\n",
    "np.asarray(arr)"
   ]
  },
  {
   "cell_type": "code",
   "execution_count": 58,
   "metadata": {
    "scrolled": true
   },
   "outputs": [
    {
     "data": {
      "text/plain": [
       "array([[10.,  0.,  0.,  0.,  0.],\n",
       "       [ 0., 10.,  0.,  0.,  0.],\n",
       "       [ 0.,  0., 10.,  0.,  0.],\n",
       "       [ 0.,  0.,  0., 10.,  0.],\n",
       "       [ 0.,  0.,  0.,  0., 10.]])"
      ]
     },
     "execution_count": 58,
     "metadata": {},
     "output_type": "execute_result"
    }
   ],
   "source": [
    "arr = np.multiply(arr, 5)\n",
    "arr"
   ]
  },
  {
   "cell_type": "code",
   "execution_count": 59,
   "metadata": {},
   "outputs": [
    {
     "data": {
      "text/plain": [
       "numpy.ndarray"
      ]
     },
     "execution_count": 59,
     "metadata": {},
     "output_type": "execute_result"
    }
   ],
   "source": [
    "type(arr)"
   ]
  },
  {
   "cell_type": "markdown",
   "metadata": {},
   "source": [
    "## Input & Output\n",
    "* NumPy má vlastní funkce pro zápis a načítání polí\n",
    "* komprese\n",
    "* vytvoří nebo přepíše\n",
    "* .npy uloží všechny potřebné informace potřebné k rekonstrukci pole (data, dtype, shape)"
   ]
  },
  {
   "cell_type": "code",
   "execution_count": 60,
   "metadata": {},
   "outputs": [
    {
     "data": {
      "text/plain": [
       "array([[ 0.,  1.,  2.,  3.,  4.,  5.],\n",
       "       [10., 11., 12., 13., 14., 15.],\n",
       "       [20., 21., 22., 23., 24., 25.],\n",
       "       [30., 31., 32., 33., 34., 35.],\n",
       "       [40., 41., 42., 43., 44., 45.],\n",
       "       [50., 51., 52., 53., 54., 55.]])"
      ]
     },
     "execution_count": 60,
     "metadata": {},
     "output_type": "execute_result"
    }
   ],
   "source": [
    "arr2d = basic_array()\n",
    "np.save('arr2d',arr2d)\n",
    "aux = np.load('arr2d.npy')\n",
    "aux"
   ]
  },
  {
   "cell_type": "code",
   "execution_count": 61,
   "metadata": {},
   "outputs": [
    {
     "data": {
      "text/plain": [
       "array([[100., 101., 102., 103., 104., 105.],\n",
       "       [110., 111., 112., 113., 114., 115.],\n",
       "       [120., 121., 122., 123., 124., 125.],\n",
       "       [130., 131., 132., 133., 134., 135.],\n",
       "       [140., 141., 142., 143., 144., 145.],\n",
       "       [150., 151., 152., 153., 154., 155.]])"
      ]
     },
     "execution_count": 61,
     "metadata": {},
     "output_type": "execute_result"
    }
   ],
   "source": [
    "arr2d += 100\n",
    "np.save('arr2d',arr2d)\n",
    "aux = np.load('arr2d.npy')\n",
    "aux"
   ]
  },
  {
   "cell_type": "markdown",
   "metadata": {},
   "source": [
    "* .npz (zip) uloží více polí\n",
    " * klíč"
   ]
  },
  {
   "cell_type": "code",
   "execution_count": 62,
   "metadata": {},
   "outputs": [
    {
     "data": {
      "text/plain": [
       "['y', 'arr_0']"
      ]
     },
     "execution_count": 62,
     "metadata": {},
     "output_type": "execute_result"
    }
   ],
   "source": [
    "arr = np.array([1,2,3])\n",
    "np.savez('ziparr', arr, y = arr2d)   \n",
    "aux = np.load('ziparr.npz')\n",
    "\n",
    "aux.files"
   ]
  },
  {
   "cell_type": "code",
   "execution_count": 63,
   "metadata": {},
   "outputs": [
    {
     "data": {
      "text/plain": [
       "array([1, 2, 3])"
      ]
     },
     "execution_count": 63,
     "metadata": {},
     "output_type": "execute_result"
    }
   ],
   "source": [
    "aux['arr_0']"
   ]
  },
  {
   "cell_type": "code",
   "execution_count": 64,
   "metadata": {},
   "outputs": [
    {
     "data": {
      "text/plain": [
       "array([[100., 101., 102., 103., 104., 105.],\n",
       "       [110., 111., 112., 113., 114., 115.],\n",
       "       [120., 121., 122., 123., 124., 125.],\n",
       "       [130., 131., 132., 133., 134., 135.],\n",
       "       [140., 141., 142., 143., 144., 145.],\n",
       "       [150., 151., 152., 153., 154., 155.]])"
      ]
     },
     "execution_count": 64,
     "metadata": {},
     "output_type": "execute_result"
    }
   ],
   "source": [
    "aux['y']"
   ]
  },
  {
   "cell_type": "code",
   "execution_count": 65,
   "metadata": {},
   "outputs": [
    {
     "data": {
      "text/plain": [
       "['z']"
      ]
     },
     "execution_count": 65,
     "metadata": {},
     "output_type": "execute_result"
    }
   ],
   "source": [
    "arr = np.array([1,1])\n",
    "np.savez('ziparr', z = arr)\n",
    "aux = np.load('ziparr.npz')\n",
    "aux.files"
   ]
  },
  {
   "cell_type": "markdown",
   "metadata": {},
   "source": [
    "## RNG\n",
    "* pseudo náhodná čísla\n",
    "* dříve RandomState\n",
    "* BitGenerátory vytvoří posloupnosti náhodných čísel\n",
    "* Generátory transofrmují tyto posloupnosti do posloupností, které se řídí určitým rozdělením\n",
    " * Generátory mohou být inicializovány pomocí více BitGenerátorů"
   ]
  },
  {
   "cell_type": "code",
   "execution_count": 79,
   "metadata": {},
   "outputs": [],
   "source": [
    "from numpy import random as ran "
   ]
  },
  {
   "cell_type": "code",
   "execution_count": 80,
   "metadata": {},
   "outputs": [
    {
     "data": {
      "text/plain": [
       "array([-0.3885631 , -0.74722904, -0.09739062, -0.16593073,  1.08539259,\n",
       "       -1.18788393, -0.85973722, -0.4984932 ,  1.11156485, -0.00743973])"
      ]
     },
     "execution_count": 80,
     "metadata": {},
     "output_type": "execute_result"
    }
   ],
   "source": [
    "rng = ran.default_rng()     # new instance of Generator\n",
    "vals1 = rng.standard_normal(10)\n",
    "vals1"
   ]
  },
  {
   "cell_type": "code",
   "execution_count": 81,
   "metadata": {},
   "outputs": [
    {
     "data": {
      "text/plain": [
       "array([-0.27471504,  0.16653337,  2.69032377,  0.05558164, -0.90107646,\n",
       "       -1.5102952 , -1.36387026, -0.77405891, -0.1565701 ,  0.6365117 ])"
      ]
     },
     "execution_count": 81,
     "metadata": {},
     "output_type": "execute_result"
    }
   ],
   "source": [
    "vals2 = rng.standard_normal(10)\n",
    "vals2"
   ]
  },
  {
   "cell_type": "markdown",
   "metadata": {},
   "source": [
    "  * Generátor obsahuje svůj vlastní interní BitGenerátor"
   ]
  },
  {
   "cell_type": "code",
   "execution_count": 82,
   "metadata": {},
   "outputs": [
    {
     "data": {
      "text/plain": [
       "<numpy.random.pcg64.PCG64 at 0x7f510c0d4eb0>"
      ]
     },
     "execution_count": 82,
     "metadata": {},
     "output_type": "execute_result"
    }
   ],
   "source": [
    "rng.bit_generator"
   ]
  },
  {
   "cell_type": "markdown",
   "metadata": {},
   "source": [
    "### Seeding\n",
    "...zhruba\n",
    "* chceme reprodukovatelnou posloupnost náhodných čísel\n",
    "* BitGenerator si vezme libovolně velké přirozené číslo, nebo list takových čísel jako seed\n",
    " * problém s kvalitou, tj: chceme kvalitní výstup náhodných čísel bez ohledu na seed\n",
    " * delegováno funkci SeedSequence"
   ]
  },
  {
   "cell_type": "code",
   "execution_count": 83,
   "metadata": {},
   "outputs": [
    {
     "data": {
      "text/plain": [
       "array([-0.23632286,  0.54671636,  0.10037845,  1.67662222,  0.49484456,\n",
       "        1.14633764,  1.7473833 ,  0.12327598, -0.34086587,  0.1500319 ])"
      ]
     },
     "execution_count": 83,
     "metadata": {},
     "output_type": "execute_result"
    }
   ],
   "source": [
    "seed = 123456789\n",
    "ss = ran.SeedSequence(seed)\n",
    "rng = ran.default_rng(ss)\n",
    "vals1 = rng.standard_normal(10)\n",
    "vals1"
   ]
  },
  {
   "cell_type": "code",
   "execution_count": 84,
   "metadata": {},
   "outputs": [
    {
     "data": {
      "text/plain": [
       "array([-0.23632286,  0.54671636,  0.10037845,  1.67662222,  0.49484456,\n",
       "        1.14633764,  1.7473833 ,  0.12327598, -0.34086587,  0.1500319 ])"
      ]
     },
     "execution_count": 84,
     "metadata": {},
     "output_type": "execute_result"
    }
   ],
   "source": [
    "rng = ran.default_rng(ss)\n",
    "vals2 = rng.standard_normal(10)\n",
    "vals2"
   ]
  },
  {
   "cell_type": "code",
   "execution_count": 85,
   "metadata": {},
   "outputs": [
    {
     "data": {
      "text/plain": [
       "array([0., 0., 0., 0., 0., 0., 0., 0., 0., 0.])"
      ]
     },
     "execution_count": 85,
     "metadata": {},
     "output_type": "execute_result"
    }
   ],
   "source": [
    "vals1 - vals2"
   ]
  },
  {
   "cell_type": "code",
   "execution_count": 86,
   "metadata": {},
   "outputs": [
    {
     "data": {
      "text/plain": [
       "array([ 0.84465446,  0.90357677, -0.28058986, -0.98720833,  1.02633847,\n",
       "       -1.04710489,  2.80647303,  2.32627448,  1.21538563,  0.32935954])"
      ]
     },
     "execution_count": 86,
     "metadata": {},
     "output_type": "execute_result"
    }
   ],
   "source": [
    "vals3 = rng.standard_normal(10)\n",
    "vals3"
   ]
  },
  {
   "cell_type": "code",
   "execution_count": 87,
   "metadata": {},
   "outputs": [
    {
     "data": {
      "text/plain": [
       "array([-1.08097732, -0.35686042,  0.38096831,  2.66383055, -0.53149391,\n",
       "        2.19344254, -1.05908973, -2.2029985 , -1.5562515 , -0.17932764])"
      ]
     },
     "execution_count": 87,
     "metadata": {},
     "output_type": "execute_result"
    }
   ],
   "source": [
    "vals1 - vals3"
   ]
  },
  {
   "cell_type": "markdown",
   "metadata": {},
   "source": [
    "#### Entropie\n",
    "* atribut SeedSequence\n",
    "* (berte s rezervou stackoverflow -> moje hlava -> čeština -> sem) náhodné číslo, které získá OS. Toto číslo se může například brát z pohybu myši."
   ]
  },
  {
   "cell_type": "code",
   "execution_count": 88,
   "metadata": {},
   "outputs": [
    {
     "data": {
      "text/plain": [
       "258663423566849372213627733824984335059"
      ]
     },
     "execution_count": 88,
     "metadata": {},
     "output_type": "execute_result"
    }
   ],
   "source": [
    "ss = np.random.SeedSequence()\n",
    "ss.entropy"
   ]
  },
  {
   "cell_type": "markdown",
   "metadata": {},
   "source": [
    "* obvyklý postup generace náhodných čísel"
   ]
  },
  {
   "cell_type": "code",
   "execution_count": 89,
   "metadata": {},
   "outputs": [
    {
     "data": {
      "text/plain": [
       "array([ 0.27599487, -1.07430023, -0.44339105,  0.5554872 , -0.91681312,\n",
       "       -0.22808996, -1.32851405, -0.56707583,  1.52380778, -0.20590259])"
      ]
     },
     "execution_count": 89,
     "metadata": {},
     "output_type": "execute_result"
    }
   ],
   "source": [
    "ss_aux = np.random.SeedSequence()\n",
    "ss = np.random.SeedSequence(ss_aux.entropy)\n",
    "rng = ran.default_rng(ss)\n",
    "vals = rng.standard_normal(10)\n",
    "vals"
   ]
  },
  {
   "cell_type": "markdown",
   "metadata": {},
   "source": [
    "## Lineární algebra\n",
    "### linalg\n",
    "* překryv s scipy.linalg\n",
    "* SciPy obsahuje víc funkcí, např. LU rozklad\n",
    "* některé funkce se liší v argumentech, např: sc.linalg.eig, np.linalg.solve"
   ]
  },
  {
   "cell_type": "code",
   "execution_count": 108,
   "metadata": {},
   "outputs": [],
   "source": [
    "from scipy import linalg"
   ]
  },
  {
   "cell_type": "code",
   "execution_count": 100,
   "metadata": {},
   "outputs": [],
   "source": [
    "arr1 = np.array([0,1,2,3,4])\n",
    "arr2 = np.array([5,6,7,8,9])"
   ]
  },
  {
   "cell_type": "code",
   "execution_count": 101,
   "metadata": {},
   "outputs": [
    {
     "data": {
      "text/plain": [
       "80"
      ]
     },
     "execution_count": 101,
     "metadata": {},
     "output_type": "execute_result"
    }
   ],
   "source": [
    "np.inner(arr1, arr2)"
   ]
  },
  {
   "cell_type": "code",
   "execution_count": 102,
   "metadata": {},
   "outputs": [
    {
     "data": {
      "text/plain": [
       "array([[ 0,  0,  0,  0,  0],\n",
       "       [ 5,  6,  7,  8,  9],\n",
       "       [10, 12, 14, 16, 18],\n",
       "       [15, 18, 21, 24, 27],\n",
       "       [20, 24, 28, 32, 36]])"
      ]
     },
     "execution_count": 102,
     "metadata": {},
     "output_type": "execute_result"
    }
   ],
   "source": [
    "np.outer(arr1, arr2)"
   ]
  },
  {
   "cell_type": "code",
   "execution_count": 103,
   "metadata": {},
   "outputs": [
    {
     "data": {
      "text/plain": [
       "array([[ 0.,  1.,  2.,  3.,  4.,  5.],\n",
       "       [10., 11., 12., 13., 14., 15.],\n",
       "       [20., 21., 22., 23., 24., 25.],\n",
       "       [30., 31., 32., 33., 34., 35.],\n",
       "       [40., 41., 42., 43., 44., 45.],\n",
       "       [50., 51., 52., 53., 54., 55.]])"
      ]
     },
     "execution_count": 103,
     "metadata": {},
     "output_type": "execute_result"
    }
   ],
   "source": [
    "arr2d = basic_array()\n",
    "arr2d"
   ]
  },
  {
   "cell_type": "markdown",
   "metadata": {},
   "source": [
    "### vlastní čísla"
   ]
  },
  {
   "cell_type": "code",
   "execution_count": 104,
   "metadata": {},
   "outputs": [
    {
     "data": {
      "text/plain": [
       "(array([1., 2., 3.]),\n",
       " array([[1., 0., 0.],\n",
       "        [0., 1., 0.],\n",
       "        [0., 0., 1.]]))"
      ]
     },
     "execution_count": 104,
     "metadata": {},
     "output_type": "execute_result"
    }
   ],
   "source": [
    "arr2d = np.diag([1,2,3])\n",
    "np.linalg.eig(arr2d)"
   ]
  },
  {
   "cell_type": "code",
   "execution_count": 105,
   "metadata": {},
   "outputs": [
    {
     "data": {
      "text/plain": [
       "(array([1.+1.j, 1.-1.j]),\n",
       " array([[0.70710678+0.j        , 0.70710678-0.j        ],\n",
       "        [0.        -0.70710678j, 0.        +0.70710678j]]))"
      ]
     },
     "execution_count": 105,
     "metadata": {},
     "output_type": "execute_result"
    }
   ],
   "source": [
    "arr2d = np.array([[1, -1], [1, 1]])\n",
    "np.linalg.eig(arr2d)"
   ]
  },
  {
   "cell_type": "markdown",
   "metadata": {},
   "source": [
    "* zaokrouhlovací chyby"
   ]
  },
  {
   "cell_type": "code",
   "execution_count": 106,
   "metadata": {
    "scrolled": true
   },
   "outputs": [
    {
     "data": {
      "text/plain": [
       "(array([1., 1.]),\n",
       " array([[1., 0.],\n",
       "        [0., 1.]]))"
      ]
     },
     "execution_count": 106,
     "metadata": {},
     "output_type": "execute_result"
    }
   ],
   "source": [
    "arr2d = np.array([[1 + 1e-9, 0], [0, 1 - 1e-9]])\n",
    "np.linalg.eig(arr2d)"
   ]
  },
  {
   "cell_type": "markdown",
   "metadata": {},
   "source": [
    "##### SciPy"
   ]
  },
  {
   "cell_type": "code",
   "execution_count": 118,
   "metadata": {},
   "outputs": [
    {
     "data": {
      "text/plain": [
       "(array([1.+0.j, 2.+0.j, 3.+0.j]),\n",
       " array([[1., 0., 0.],\n",
       "        [0., 1., 0.],\n",
       "        [0., 0., 1.]]))"
      ]
     },
     "execution_count": 118,
     "metadata": {},
     "output_type": "execute_result"
    }
   ],
   "source": [
    "arr2d = np.diag([1,2,3])\n",
    "linalg.eig(arr2d)"
   ]
  },
  {
   "cell_type": "markdown",
   "metadata": {},
   "source": [
    "* SciPy umožňuje modifikovat matici $\\mathbb{B}$ ve vztahu $\\mathbb{A} - \\lambda\\mathbb{B}$\n",
    " * defaultně $\\mathbb{B} = \\mathbb{I}$"
   ]
  },
  {
   "cell_type": "code",
   "execution_count": 119,
   "metadata": {},
   "outputs": [
    {
     "data": {
      "text/plain": [
       "(array([0.5+0.j, 1. +0.j, 1.5+0.j]),\n",
       " array([[1., 0., 0.],\n",
       "        [0., 1., 0.],\n",
       "        [0., 0., 1.]]))"
      ]
     },
     "execution_count": 119,
     "metadata": {},
     "output_type": "execute_result"
    }
   ],
   "source": [
    "arr2d2 = 2*np.eye(3)\n",
    "linalg.eig(arr2d, arr2d2)"
   ]
  },
  {
   "cell_type": "markdown",
   "metadata": {},
   "source": [
    "#### QR algoritmus"
   ]
  },
  {
   "cell_type": "code",
   "execution_count": 120,
   "metadata": {},
   "outputs": [],
   "source": [
    "q, r = np.linalg.qr(arr2d)"
   ]
  },
  {
   "cell_type": "code",
   "execution_count": 121,
   "metadata": {},
   "outputs": [
    {
     "data": {
      "text/plain": [
       "array([[1., 0., 0.],\n",
       "       [0., 1., 0.],\n",
       "       [0., 0., 1.]])"
      ]
     },
     "execution_count": 121,
     "metadata": {},
     "output_type": "execute_result"
    }
   ],
   "source": [
    "q"
   ]
  },
  {
   "cell_type": "code",
   "execution_count": 122,
   "metadata": {},
   "outputs": [
    {
     "data": {
      "text/plain": [
       "array([[1., 0., 0.],\n",
       "       [0., 2., 0.],\n",
       "       [0., 0., 3.]])"
      ]
     },
     "execution_count": 122,
     "metadata": {},
     "output_type": "execute_result"
    }
   ],
   "source": [
    "r"
   ]
  },
  {
   "cell_type": "markdown",
   "metadata": {},
   "source": [
    "### LAR"
   ]
  },
  {
   "cell_type": "code",
   "execution_count": 154,
   "metadata": {},
   "outputs": [
    {
     "data": {
      "text/plain": [
       "array([1.        , 0.5       , 0.33333333])"
      ]
     },
     "execution_count": 154,
     "metadata": {},
     "output_type": "execute_result"
    }
   ],
   "source": [
    "arr2d = np.diag([1,2,3])\n",
    "b = [1,1,1]\n",
    "np.linalg.solve(arr2d, b)"
   ]
  },
  {
   "cell_type": "code",
   "execution_count": 155,
   "metadata": {},
   "outputs": [],
   "source": [
    "arr2d2 = np.stack([arr2d, arr2d])\n",
    "b2 = np.stack([b, b])"
   ]
  },
  {
   "cell_type": "code",
   "execution_count": 156,
   "metadata": {},
   "outputs": [
    {
     "data": {
      "text/plain": [
       "array([[1.        , 0.5       , 0.33333333],\n",
       "       [1.        , 0.5       , 0.33333333]])"
      ]
     },
     "execution_count": 156,
     "metadata": {},
     "output_type": "execute_result"
    }
   ],
   "source": [
    "np.linalg.solve(arr2d2, b2)"
   ]
  },
  {
   "cell_type": "markdown",
   "metadata": {},
   "source": [
    "##### SciPy"
   ]
  },
  {
   "cell_type": "code",
   "execution_count": 158,
   "metadata": {},
   "outputs": [
    {
     "data": {
      "text/plain": [
       "array([1.        , 0.5       , 0.33333333])"
      ]
     },
     "execution_count": 158,
     "metadata": {},
     "output_type": "execute_result"
    }
   ],
   "source": [
    "arr2d = np.diag([1,2,3])\n",
    "b = [1,1,1]\n",
    "linalg.solve(arr2d, b)"
   ]
  },
  {
   "cell_type": "code",
   "execution_count": 159,
   "metadata": {},
   "outputs": [],
   "source": [
    "arr2d2 = np.stack([arr2d, arr2d])\n",
    "b2 = np.stack([b, b])"
   ]
  },
  {
   "cell_type": "code",
   "execution_count": 160,
   "metadata": {},
   "outputs": [
    {
     "ename": "ValueError",
     "evalue": "Input a needs to be a square matrix.",
     "output_type": "error",
     "traceback": [
      "\u001b[0;31m---------------------------------------------------------------------------\u001b[0m",
      "\u001b[0;31mValueError\u001b[0m                                Traceback (most recent call last)",
      "\u001b[0;32m<ipython-input-160-15043893eb86>\u001b[0m in \u001b[0;36m<module>\u001b[0;34m\u001b[0m\n\u001b[0;32m----> 1\u001b[0;31m \u001b[0mlinalg\u001b[0m\u001b[0;34m.\u001b[0m\u001b[0msolve\u001b[0m\u001b[0;34m(\u001b[0m\u001b[0marr2d2\u001b[0m\u001b[0;34m,\u001b[0m \u001b[0mb2\u001b[0m\u001b[0;34m)\u001b[0m\u001b[0;34m\u001b[0m\u001b[0;34m\u001b[0m\u001b[0m\n\u001b[0m",
      "\u001b[0;32m~/.local/lib/python3.8/site-packages/scipy/linalg/basic.py\u001b[0m in \u001b[0;36msolve\u001b[0;34m(a, b, sym_pos, lower, overwrite_a, overwrite_b, debug, check_finite, assume_a, transposed)\u001b[0m\n\u001b[1;32m    143\u001b[0m \u001b[0;34m\u001b[0m\u001b[0m\n\u001b[1;32m    144\u001b[0m     \u001b[0;32mif\u001b[0m \u001b[0ma1\u001b[0m\u001b[0;34m.\u001b[0m\u001b[0mshape\u001b[0m\u001b[0;34m[\u001b[0m\u001b[0;36m0\u001b[0m\u001b[0;34m]\u001b[0m \u001b[0;34m!=\u001b[0m \u001b[0ma1\u001b[0m\u001b[0;34m.\u001b[0m\u001b[0mshape\u001b[0m\u001b[0;34m[\u001b[0m\u001b[0;36m1\u001b[0m\u001b[0;34m]\u001b[0m\u001b[0;34m:\u001b[0m\u001b[0;34m\u001b[0m\u001b[0;34m\u001b[0m\u001b[0m\n\u001b[0;32m--> 145\u001b[0;31m         \u001b[0;32mraise\u001b[0m \u001b[0mValueError\u001b[0m\u001b[0;34m(\u001b[0m\u001b[0;34m'Input a needs to be a square matrix.'\u001b[0m\u001b[0;34m)\u001b[0m\u001b[0;34m\u001b[0m\u001b[0;34m\u001b[0m\u001b[0m\n\u001b[0m\u001b[1;32m    146\u001b[0m \u001b[0;34m\u001b[0m\u001b[0m\n\u001b[1;32m    147\u001b[0m     \u001b[0;32mif\u001b[0m \u001b[0mn\u001b[0m \u001b[0;34m!=\u001b[0m \u001b[0mb1\u001b[0m\u001b[0;34m.\u001b[0m\u001b[0mshape\u001b[0m\u001b[0;34m[\u001b[0m\u001b[0;36m0\u001b[0m\u001b[0;34m]\u001b[0m\u001b[0;34m:\u001b[0m\u001b[0;34m\u001b[0m\u001b[0;34m\u001b[0m\u001b[0m\n",
      "\u001b[0;31mValueError\u001b[0m: Input a needs to be a square matrix."
     ]
    }
   ],
   "source": [
    "linalg.solve(arr2d2, b2)"
   ]
  },
  {
   "cell_type": "markdown",
   "metadata": {},
   "source": [
    "#### inverzní matice"
   ]
  },
  {
   "cell_type": "code",
   "execution_count": 162,
   "metadata": {},
   "outputs": [
    {
     "data": {
      "text/plain": [
       "array([[1.        , 0.        , 0.        ],\n",
       "       [0.        , 0.5       , 0.        ],\n",
       "       [0.        , 0.        , 0.33333333]])"
      ]
     },
     "execution_count": 162,
     "metadata": {},
     "output_type": "execute_result"
    }
   ],
   "source": [
    "np.linalg.inv(arr2d)"
   ]
  },
  {
   "cell_type": "markdown",
   "metadata": {},
   "source": [
    "## další"
   ]
  },
  {
   "cell_type": "markdown",
   "metadata": {},
   "source": [
    "#### np.concatenate"
   ]
  },
  {
   "cell_type": "code",
   "execution_count": null,
   "metadata": {},
   "outputs": [],
   "source": [
    "np.concatenate([[1], [0,4], 5*[1,2]])"
   ]
  },
  {
   "cell_type": "markdown",
   "metadata": {},
   "source": [
    "# np.meshgrid\n",
    "* returns coordinate matrices from coordinate vectors"
   ]
  },
  {
   "cell_type": "code",
   "execution_count": null,
   "metadata": {
    "scrolled": true
   },
   "outputs": [],
   "source": [
    "np.meshgrid([1,2], [1,2,3,4,5])"
   ]
  },
  {
   "cell_type": "markdown",
   "metadata": {},
   "source": [
    "# np.mgrid\n",
    "* returns mesh-grid ndarrays all of the same dimensions\n",
    "* if the step length is a complex number, for example 2j, then 2 specifies the number of points between the start and stop value (stop value included)"
   ]
  },
  {
   "cell_type": "code",
   "execution_count": null,
   "metadata": {},
   "outputs": [],
   "source": [
    "aux = np.mgrid[0:4, 0:5:3j]\n",
    "aux"
   ]
  },
  {
   "cell_type": "code",
   "execution_count": null,
   "metadata": {},
   "outputs": [],
   "source": [
    "np.mgrid[0:3]"
   ]
  },
  {
   "cell_type": "markdown",
   "metadata": {},
   "source": [
    "# np.ogrid\n",
    "* returns an open (not fleshed out) multi-dimensional \"meshgrid\"    ????? it is a list\n",
    "* only one dimension of each returned array is greater than 1\n",
    "* dimension and number of the output arrays are equal to the number of indexing dimensions"
   ]
  },
  {
   "cell_type": "code",
   "execution_count": null,
   "metadata": {},
   "outputs": [],
   "source": [
    "aux = np.ogrid[0:4, 0:5:3j]\n",
    "aux"
   ]
  },
  {
   "cell_type": "code",
   "execution_count": null,
   "metadata": {},
   "outputs": [],
   "source": [
    "print(aux[0].shape)\n",
    "aux[0].ndim"
   ]
  },
  {
   "cell_type": "code",
   "execution_count": null,
   "metadata": {},
   "outputs": [],
   "source": [
    "print(aux[1].shape)\n",
    "aux[1].ndim"
   ]
  },
  {
   "cell_type": "markdown",
   "metadata": {},
   "source": [
    "# np.r_\n",
    "* translates slice objects to concatenation along the first axis"
   ]
  },
  {
   "cell_type": "code",
   "execution_count": null,
   "metadata": {},
   "outputs": [],
   "source": [
    "aux = np.r_[np.array([1,8,3]), 9, [7, 6]]\n",
    "aux"
   ]
  },
  {
   "cell_type": "markdown",
   "metadata": {},
   "source": [
    "* we can specify the axis using string integers"
   ]
  },
  {
   "cell_type": "code",
   "execution_count": null,
   "metadata": {
    "scrolled": true
   },
   "outputs": [],
   "source": [
    "arr = np.array([[1,2,3], [4,5,6]])\n",
    "aux = np.r_['0', arr, arr] # concatenate along the first axis\n",
    "aux"
   ]
  },
  {
   "cell_type": "code",
   "execution_count": null,
   "metadata": {},
   "outputs": [],
   "source": [
    "aux = np.r_['-1', arr, arr] # concatenate along the last axis\n",
    "aux"
   ]
  },
  {
   "cell_type": "code",
   "execution_count": null,
   "metadata": {},
   "outputs": [],
   "source": [
    "aux = np.r_['1,3', arr, arr]  # concatenate along the first axis, dim >= 3\n",
    "aux"
   ]
  },
  {
   "cell_type": "code",
   "execution_count": null,
   "metadata": {},
   "outputs": [],
   "source": [
    "aux = np.r_['r', arr, arr]   # r or c creates matrix\n",
    "aux"
   ]
  },
  {
   "cell_type": "markdown",
   "metadata": {},
   "source": [
    "# np.c_\n",
    "* translates slice objects to concatenation along the second axis"
   ]
  },
  {
   "cell_type": "code",
   "execution_count": null,
   "metadata": {},
   "outputs": [],
   "source": [
    "np.c_[arr, arr]"
   ]
  },
  {
   "cell_type": "code",
   "execution_count": null,
   "metadata": {},
   "outputs": [],
   "source": [
    "aux = np.c_[np.array([[1,8,3]]), 9, [[7, 6]]]            # not the same as the first one\n",
    "aux"
   ]
  },
  {
   "cell_type": "markdown",
   "metadata": {},
   "source": [
    "# np.vectorize\n",
    "* defince a vectorized function\n",
    " *  input: a nested sequence of objects or ndarrays\n",
    " *  output: single ndarray or a tuple of ndarrays"
   ]
  },
  {
   "cell_type": "code",
   "execution_count": null,
   "metadata": {},
   "outputs": [],
   "source": [
    "def my_func(a, b):\n",
    "    return a+b\n",
    "aux = np.vectorize(my_func)\n",
    "aux(a=[1,2,3,4], b=3)"
   ]
  },
  {
   "cell_type": "code",
   "execution_count": null,
   "metadata": {},
   "outputs": [],
   "source": [
    "# can exclude from vectorization\n",
    "def my_func(a, b):\n",
    "    aux = list(b)\n",
    "    res = aux.pop(0)\n",
    "    while aux:\n",
    "        res += a + aux.pop(0)\n",
    "    return res\n",
    "aux = np.vectorize(my_func, excluded=['b'])\n",
    "aux(a=[1,2,3,4], b=[3,2,1])"
   ]
  },
  {
   "cell_type": "code",
   "execution_count": null,
   "metadata": {},
   "outputs": [],
   "source": []
  }
 ],
 "metadata": {
  "kernelspec": {
   "display_name": "Python 3",
   "language": "python",
   "name": "python3"
  },
  "language_info": {
   "codemirror_mode": {
    "name": "ipython",
    "version": 3
   },
   "file_extension": ".py",
   "mimetype": "text/x-python",
   "name": "python",
   "nbconvert_exporter": "python",
   "pygments_lexer": "ipython3",
   "version": "3.8.2"
  }
 },
 "nbformat": 4,
 "nbformat_minor": 4
}
