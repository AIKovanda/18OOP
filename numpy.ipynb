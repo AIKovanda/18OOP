{
 "cells": [
  {
   "cell_type": "markdown",
   "metadata": {},
   "source": [
    "# Mathematical operations take time"
   ]
  },
  {
   "cell_type": "code",
   "execution_count": 1,
   "metadata": {},
   "outputs": [
    {
     "data": {
      "text/plain": [
       "0.0222322940826416"
      ]
     },
     "execution_count": 1,
     "metadata": {},
     "output_type": "execute_result"
    }
   ],
   "source": [
    "import random\n",
    "import time\n",
    "\n",
    "n = 100_000\n",
    "\n",
    "# two lists of n random numbers from 0 to 99\n",
    "x = [random.randrange(100) for _ in range(n)]\n",
    "y = [random.randrange(100) for _ in range(n)]\n",
    "\n",
    "#start counting time\n",
    "start = time.time()\n",
    "\n",
    "#make a list by multiplying the elements of the lists\n",
    "i, z = 0, []\n",
    "while i < n:\n",
    "    z.append(x[i] * y[i])\n",
    "    i += 1\n",
    "    \n",
    "#print elapsed time\n",
    "end = time.time()\n",
    "end-start"
   ]
  },
  {
   "cell_type": "markdown",
   "metadata": {},
   "source": [
    "# Can we do it faster?"
   ]
  },
  {
   "cell_type": "markdown",
   "metadata": {},
   "source": [
    " for ( int i = 0; i < n; i++) {\n",
    "  c[i] = a[i] * b[i]; \n",
    " }\n",
    "\n",
    "* No need to manipulate with Python objects\n",
    "* losing the benefits of Python (readability, .....................................................................................................................................................)"
   ]
  },
  {
   "cell_type": "markdown",
   "metadata": {},
   "source": [
    "# Alternative: Numpy"
   ]
  },
  {
   "cell_type": "code",
   "execution_count": 2,
   "metadata": {},
   "outputs": [
    {
     "data": {
      "text/plain": [
       "0.001920938491821289"
      ]
     },
     "execution_count": 2,
     "metadata": {},
     "output_type": "execute_result"
    }
   ],
   "source": [
    "import numpy as np\n",
    "\n",
    "x = np.array(x)\n",
    "y = np.array(y)\n",
    "\n",
    "#start counting time\n",
    "start = time.time()\n",
    "\n",
    "#...\n",
    "z = x * y\n",
    "\n",
    "#print elapsed time\n",
    "end = time.time()\n",
    "end-start"
   ]
  },
  {
   "cell_type": "markdown",
   "metadata": {},
   "source": [
    "* element-by-element operation is executed by pre-compiled C or Fortrun code\n",
    "* vectorized code\n",
    " * absence of explicit loops and indexing\n",
    " * fewer lines and bugs, more resembles mathematical notation\n",
    "* fundamental package for scientific computing in Python\n",
    "* scientific and mathematical Python-based packages are using ndarrays from numpy\n",
    "* convert Python sequences to ndarrays prior to processing\n",
    " \n",
    " ## ndarray\n",
    "* n-dimensional arrays of homogeneous data types\n",
    "* able to create from **list** or tuple\n",
    "* multidimensional array is created as a sequence of sequences\n",
    "* dimensions are called axes"
   ]
  },
  {
   "cell_type": "code",
   "execution_count": 3,
   "metadata": {},
   "outputs": [
    {
     "data": {
      "text/plain": [
       "array([1, 2, 3])"
      ]
     },
     "execution_count": 3,
     "metadata": {},
     "output_type": "execute_result"
    }
   ],
   "source": [
    "arr = np.array([1,2,3])\n",
    "arr"
   ]
  },
  {
   "cell_type": "code",
   "execution_count": 4,
   "metadata": {},
   "outputs": [
    {
     "data": {
      "text/plain": [
       "array([[1, 2, 3],\n",
       "       [4, 5, 6]])"
      ]
     },
     "execution_count": 4,
     "metadata": {},
     "output_type": "execute_result"
    }
   ],
   "source": [
    "arr2d = np.array([[1,2,3],[4,5,6]])\n",
    "# first axis has 2 elements\n",
    "# second axis has 3 elements\n",
    "arr2d"
   ]
  },
  {
   "cell_type": "markdown",
   "metadata": {},
   "source": [
    "difference between ndarray and standard sequences:\n",
    "* fixed size at creation\n",
    "* changes by creating new and deleting original"
   ]
  },
  {
   "cell_type": "markdown",
   "metadata": {},
   "source": [
    "# ????????????????????????????????????????????????????????????????????????????????????????????/"
   ]
  },
  {
   "cell_type": "markdown",
   "metadata": {},
   "source": [
    "* same data type  (dtype)"
   ]
  },
  {
   "cell_type": "code",
   "execution_count": 5,
   "metadata": {},
   "outputs": [
    {
     "data": {
      "text/plain": [
       "array(['s', '1'], dtype='<U1')"
      ]
     },
     "execution_count": 5,
     "metadata": {},
     "output_type": "execute_result"
    }
   ],
   "source": [
    "arr = np.array(['s',1])\n",
    "arr"
   ]
  },
  {
   "cell_type": "code",
   "execution_count": 6,
   "metadata": {
    "scrolled": false
   },
   "outputs": [
    {
     "ename": "TypeError",
     "evalue": "can only concatenate str (not \"int\") to str",
     "output_type": "error",
     "traceback": [
      "\u001b[0;31m---------------------------------------------------------------------------\u001b[0m",
      "\u001b[0;31mTypeError\u001b[0m                                 Traceback (most recent call last)",
      "\u001b[0;32m<ipython-input-6-a02669c7cdc3>\u001b[0m in \u001b[0;36m<module>\u001b[0;34m\u001b[0m\n\u001b[0;32m----> 1\u001b[0;31m \u001b[0marr\u001b[0m\u001b[0;34m[\u001b[0m\u001b[0;36m1\u001b[0m\u001b[0;34m]\u001b[0m\u001b[0;34m+\u001b[0m\u001b[0;36m1\u001b[0m          \u001b[0;31m# ...ERROR\u001b[0m\u001b[0;34m\u001b[0m\u001b[0;34m\u001b[0m\u001b[0m\n\u001b[0m",
      "\u001b[0;31mTypeError\u001b[0m: can only concatenate str (not \"int\") to str"
     ]
    }
   ],
   "source": [
    "arr[1]+1          # ...ERROR"
   ]
  },
  {
   "cell_type": "markdown",
   "metadata": {},
   "source": [
    "  *  object as dtype"
   ]
  },
  {
   "cell_type": "code",
   "execution_count": 4,
   "metadata": {},
   "outputs": [
    {
     "data": {
      "text/plain": [
       "array(['s', list([1, 2])], dtype=object)"
      ]
     },
     "execution_count": 4,
     "metadata": {},
     "output_type": "execute_result"
    }
   ],
   "source": [
    "arr = np.array(['s',[1,2]])\n",
    "arr"
   ]
  },
  {
   "cell_type": "markdown",
   "metadata": {},
   "source": [
    "* important attributes are: ndim, shape, size, dtype, itemsize, data"
   ]
  },
  {
   "cell_type": "code",
   "execution_count": 5,
   "metadata": {},
   "outputs": [
    {
     "data": {
      "text/plain": [
       "2"
      ]
     },
     "execution_count": 5,
     "metadata": {},
     "output_type": "execute_result"
    }
   ],
   "source": [
    "arr = np.array([[1,1,1],[2,2,2]])\n",
    "arr.ndim"
   ]
  },
  {
   "cell_type": "code",
   "execution_count": 6,
   "metadata": {},
   "outputs": [
    {
     "data": {
      "text/plain": [
       "1"
      ]
     },
     "execution_count": 6,
     "metadata": {},
     "output_type": "execute_result"
    }
   ],
   "source": [
    "# when using objects\n",
    "arr = np.array([[1,1],[1,2,3]])\n",
    "arr.ndim"
   ]
  },
  {
   "cell_type": "code",
   "execution_count": 7,
   "metadata": {},
   "outputs": [
    {
     "data": {
      "text/plain": [
       "(2, 3)"
      ]
     },
     "execution_count": 7,
     "metadata": {},
     "output_type": "execute_result"
    }
   ],
   "source": [
    "arr = np.array([[1,1,1],[2,2,2]])\n",
    "arr.shape   # 2 elements, 3 elements"
   ]
  },
  {
   "cell_type": "code",
   "execution_count": 8,
   "metadata": {},
   "outputs": [
    {
     "data": {
      "text/plain": [
       "6"
      ]
     },
     "execution_count": 8,
     "metadata": {},
     "output_type": "execute_result"
    }
   ],
   "source": [
    "arr.size  # total number of elements"
   ]
  },
  {
   "cell_type": "code",
   "execution_count": 9,
   "metadata": {},
   "outputs": [
    {
     "data": {
      "text/plain": [
       "dtype('int64')"
      ]
     },
     "execution_count": 9,
     "metadata": {},
     "output_type": "execute_result"
    }
   ],
   "source": [
    "arr.dtype  # type of element"
   ]
  },
  {
   "cell_type": "code",
   "execution_count": 16,
   "metadata": {
    "scrolled": true
   },
   "outputs": [
    {
     "name": "stdout",
     "output_type": "stream",
     "text": [
      "8\n"
     ]
    },
    {
     "data": {
      "text/plain": [
       "24"
      ]
     },
     "execution_count": 16,
     "metadata": {},
     "output_type": "execute_result"
    }
   ],
   "source": [
    "import sys\n",
    "print(arr.itemsize) # byte size of each element of the array\n",
    "sys.getsizeof(int()) # why more? reference counter (8) and a pointer to the type (8)"
   ]
  },
  {
   "cell_type": "code",
   "execution_count": 14,
   "metadata": {},
   "outputs": [
    {
     "data": {
      "text/plain": [
       "<memory at 0x7f7e55377860>"
      ]
     },
     "execution_count": 14,
     "metadata": {},
     "output_type": "execute_result"
    }
   ],
   "source": [
    "arr.data"
   ]
  },
  {
   "cell_type": "markdown",
   "metadata": {},
   "source": [
    "## Basic Operations"
   ]
  },
  {
   "cell_type": "code",
   "execution_count": 15,
   "metadata": {},
   "outputs": [
    {
     "data": {
      "text/plain": [
       "array([[ 2,  4,  6,  8],\n",
       "       [16, 18, 20, 22]])"
      ]
     },
     "execution_count": 15,
     "metadata": {},
     "output_type": "execute_result"
    }
   ],
   "source": [
    "arr2d = np.array([[1,2,3,4],[8,9,10,11]])\n",
    "arr2d+arr2d"
   ]
  },
  {
   "cell_type": "code",
   "execution_count": 16,
   "metadata": {},
   "outputs": [
    {
     "data": {
      "text/plain": [
       "array([[0, 0, 0, 0],\n",
       "       [0, 0, 0, 0]])"
      ]
     },
     "execution_count": 16,
     "metadata": {},
     "output_type": "execute_result"
    }
   ],
   "source": [
    "arr2d-arr2d"
   ]
  },
  {
   "cell_type": "code",
   "execution_count": 17,
   "metadata": {},
   "outputs": [
    {
     "data": {
      "text/plain": [
       "array([[  1,   4,   9,  16],\n",
       "       [ 64,  81, 100, 121]])"
      ]
     },
     "execution_count": 17,
     "metadata": {},
     "output_type": "execute_result"
    }
   ],
   "source": [
    "arr2d*arr2d"
   ]
  },
  {
   "cell_type": "code",
   "execution_count": 18,
   "metadata": {},
   "outputs": [
    {
     "data": {
      "text/plain": [
       "array([[1.        , 0.5       , 0.33333333, 0.25      ],\n",
       "       [0.125     , 0.11111111, 0.1       , 0.09090909]])"
      ]
     },
     "execution_count": 18,
     "metadata": {},
     "output_type": "execute_result"
    }
   ],
   "source": [
    "1/arr2d"
   ]
  },
  {
   "cell_type": "code",
   "execution_count": 19,
   "metadata": {
    "scrolled": true
   },
   "outputs": [
    {
     "data": {
      "text/plain": [
       "array([[  1,   4,   9,  16],\n",
       "       [ 64,  81, 100, 121]])"
      ]
     },
     "execution_count": 19,
     "metadata": {},
     "output_type": "execute_result"
    }
   ],
   "source": [
    "arr2d**2"
   ]
  },
  {
   "cell_type": "markdown",
   "metadata": {},
   "source": [
    "## Broadcasting\n",
    "* how numpy treats arrays with different shapes during arithmetic operations"
   ]
  },
  {
   "cell_type": "code",
   "execution_count": 20,
   "metadata": {},
   "outputs": [
    {
     "data": {
      "text/plain": [
       "array([[0, 1, 2],\n",
       "       [3, 4, 5]])"
      ]
     },
     "execution_count": 20,
     "metadata": {},
     "output_type": "execute_result"
    }
   ],
   "source": [
    "arr = np.arange(6)  # creates an array of integers from 0 to 6\n",
    "arr.resize((2,3))  # reshapes it into a matrix\n",
    "arr"
   ]
  },
  {
   "cell_type": "code",
   "execution_count": 21,
   "metadata": {},
   "outputs": [
    {
     "data": {
      "text/plain": [
       "array([[0, 2, 5],\n",
       "       [3, 5, 8]])"
      ]
     },
     "execution_count": 21,
     "metadata": {},
     "output_type": "execute_result"
    }
   ],
   "source": [
    "arr2 = np.array([[0,1,3]])\n",
    "arr + arr2"
   ]
  },
  {
   "cell_type": "markdown",
   "metadata": {},
   "source": [
    "* numpy compares the shapes of the two arrays\n",
    "* two dimensions are compatible when they are equal or one of them is 1"
   ]
  },
  {
   "cell_type": "code",
   "execution_count": 22,
   "metadata": {},
   "outputs": [
    {
     "ename": "ValueError",
     "evalue": "operands could not be broadcast together with shapes (2,3) (1,2) ",
     "output_type": "error",
     "traceback": [
      "\u001b[0;31m---------------------------------------------------------------------------\u001b[0m",
      "\u001b[0;31mValueError\u001b[0m                                Traceback (most recent call last)",
      "\u001b[0;32m<ipython-input-22-d72b737ce3be>\u001b[0m in \u001b[0;36m<module>\u001b[0;34m\u001b[0m\n\u001b[1;32m      1\u001b[0m \u001b[0;31m# if not...\u001b[0m\u001b[0;34m\u001b[0m\u001b[0;34m\u001b[0m\u001b[0;34m\u001b[0m\u001b[0m\n\u001b[1;32m      2\u001b[0m \u001b[0marr2\u001b[0m \u001b[0;34m=\u001b[0m \u001b[0mnp\u001b[0m\u001b[0;34m.\u001b[0m\u001b[0marray\u001b[0m\u001b[0;34m(\u001b[0m\u001b[0;34m[\u001b[0m\u001b[0;34m[\u001b[0m\u001b[0;36m0\u001b[0m\u001b[0;34m,\u001b[0m\u001b[0;36m1\u001b[0m\u001b[0;34m]\u001b[0m\u001b[0;34m]\u001b[0m\u001b[0;34m)\u001b[0m\u001b[0;34m\u001b[0m\u001b[0;34m\u001b[0m\u001b[0m\n\u001b[0;32m----> 3\u001b[0;31m \u001b[0marr\u001b[0m \u001b[0;34m+\u001b[0m \u001b[0marr2\u001b[0m\u001b[0;34m\u001b[0m\u001b[0;34m\u001b[0m\u001b[0m\n\u001b[0m",
      "\u001b[0;31mValueError\u001b[0m: operands could not be broadcast together with shapes (2,3) (1,2) "
     ]
    }
   ],
   "source": [
    "# if not...\n",
    "arr2 = np.array([[0,1]])\n",
    "arr + arr2"
   ]
  },
  {
   "cell_type": "markdown",
   "metadata": {},
   "source": [
    "## Indexing"
   ]
  },
  {
   "cell_type": "code",
   "execution_count": 88,
   "metadata": {},
   "outputs": [
    {
     "data": {
      "text/plain": [
       "array([[ 0.,  1.,  2.,  3.,  4.,  5.],\n",
       "       [10., 11., 12., 13., 14., 15.],\n",
       "       [20., 21., 22., 23., 24., 25.],\n",
       "       [30., 31., 32., 33., 34., 35.],\n",
       "       [40., 41., 42., 43., 44., 45.],\n",
       "       [50., 51., 52., 53., 54., 55.]])"
      ]
     },
     "execution_count": 88,
     "metadata": {},
     "output_type": "execute_result"
    }
   ],
   "source": [
    "def basic_array():\n",
    "    arr2d = np.zeros((6,6))\n",
    "    for i in range(6):\n",
    "        for j in range(6):\n",
    "            arr2d[i,j] = 10*i+j\n",
    "    return arr2d\n",
    "\n",
    "arr2d = basic_array()\n",
    "arr2d"
   ]
  },
  {
   "cell_type": "code",
   "execution_count": 89,
   "metadata": {},
   "outputs": [
    {
     "data": {
      "text/plain": [
       "1.0"
      ]
     },
     "execution_count": 89,
     "metadata": {},
     "output_type": "execute_result"
    }
   ],
   "source": [
    "arr2d[0][1]"
   ]
  },
  {
   "cell_type": "code",
   "execution_count": 90,
   "metadata": {},
   "outputs": [
    {
     "data": {
      "text/plain": [
       "1.0"
      ]
     },
     "execution_count": 90,
     "metadata": {},
     "output_type": "execute_result"
    }
   ],
   "source": [
    "arr2d[0,1]"
   ]
  },
  {
   "cell_type": "markdown",
   "metadata": {},
   "source": [
    "### Indexing - Fancy Indexing"
   ]
  },
  {
   "cell_type": "code",
   "execution_count": 179,
   "metadata": {},
   "outputs": [
    {
     "data": {
      "text/plain": [
       "array([[40., 41., 42., 43., 44., 45.],\n",
       "       [20., 21., 22., 23., 24., 25.]])"
      ]
     },
     "execution_count": 179,
     "metadata": {},
     "output_type": "execute_result"
    }
   ],
   "source": [
    "# can use list for indexing\n",
    "# integers in list do not have to be in order\n",
    "l1 = [4,2]\n",
    "arr2d = basic_array()\n",
    "arr2d[l1]"
   ]
  },
  {
   "cell_type": "code",
   "execution_count": 180,
   "metadata": {},
   "outputs": [
    {
     "data": {
      "text/plain": [
       "array([[ 0.,  1.,  0.,  3.,  0.,  5.],\n",
       "       [10., 11.,  0., 13.,  0., 15.],\n",
       "       [20., 21.,  0., 23.,  0., 25.],\n",
       "       [30., 31.,  0., 33.,  0., 35.],\n",
       "       [40., 41.,  0., 43.,  0., 45.],\n",
       "       [50., 51.,  0., 53.,  0., 55.]])"
      ]
     },
     "execution_count": 180,
     "metadata": {},
     "output_type": "execute_result"
    }
   ],
   "source": [
    "# columns\n",
    "arr2d[:,l1] = 0\n",
    "arr2d"
   ]
  },
  {
   "cell_type": "code",
   "execution_count": 181,
   "metadata": {},
   "outputs": [
    {
     "ename": "IndexError",
     "evalue": "shape mismatch: indexing arrays could not be broadcast together with shapes (2,) (3,) ",
     "output_type": "error",
     "traceback": [
      "\u001b[0;31m---------------------------------------------------------------------------\u001b[0m",
      "\u001b[0;31mIndexError\u001b[0m                                Traceback (most recent call last)",
      "\u001b[0;32m<ipython-input-181-19becd65e85e>\u001b[0m in \u001b[0;36m<module>\u001b[0;34m\u001b[0m\n\u001b[1;32m      1\u001b[0m \u001b[0;31m# rows and columns ...ERROR\u001b[0m\u001b[0;34m\u001b[0m\u001b[0;34m\u001b[0m\u001b[0;34m\u001b[0m\u001b[0m\n\u001b[1;32m      2\u001b[0m \u001b[0ml2\u001b[0m \u001b[0;34m=\u001b[0m \u001b[0;34m[\u001b[0m\u001b[0;36m0\u001b[0m\u001b[0;34m,\u001b[0m\u001b[0;36m1\u001b[0m\u001b[0;34m,\u001b[0m\u001b[0;36m3\u001b[0m\u001b[0;34m]\u001b[0m\u001b[0;34m\u001b[0m\u001b[0;34m\u001b[0m\u001b[0m\n\u001b[0;32m----> 3\u001b[0;31m \u001b[0marr2d\u001b[0m\u001b[0;34m[\u001b[0m\u001b[0ml1\u001b[0m\u001b[0;34m,\u001b[0m \u001b[0ml2\u001b[0m\u001b[0;34m]\u001b[0m\u001b[0;34m\u001b[0m\u001b[0;34m\u001b[0m\u001b[0m\n\u001b[0m",
      "\u001b[0;31mIndexError\u001b[0m: shape mismatch: indexing arrays could not be broadcast together with shapes (2,) (3,) "
     ]
    }
   ],
   "source": [
    "# rows and columns ...ERROR\n",
    "l2 = [0,1,3]\n",
    "arr2d[l1, l2]"
   ]
  },
  {
   "cell_type": "code",
   "execution_count": 182,
   "metadata": {},
   "outputs": [
    {
     "data": {
      "text/plain": [
       "array([11.,  0., 33.])"
      ]
     },
     "execution_count": 182,
     "metadata": {},
     "output_type": "execute_result"
    }
   ],
   "source": [
    "# What happened? Let's try same dimensions\n",
    "arr2d[[1,2,3],[1,2,3]]"
   ]
  },
  {
   "cell_type": "code",
   "execution_count": 183,
   "metadata": {},
   "outputs": [
    {
     "data": {
      "text/plain": [
       "array([[40., 41., 43.],\n",
       "       [20., 21., 23.]])"
      ]
     },
     "execution_count": 183,
     "metadata": {},
     "output_type": "execute_result"
    }
   ],
   "source": [
    "# We can do this\n",
    "arr2d[l1][:,l2]"
   ]
  },
  {
   "cell_type": "code",
   "execution_count": 184,
   "metadata": {},
   "outputs": [
    {
     "data": {
      "text/plain": [
       "array([[ 0.,  1.,  0.,  3.,  0.,  5.],\n",
       "       [10., 11.,  0., 13.,  0., 15.],\n",
       "       [20., 21.,  0., 23.,  0., 25.],\n",
       "       [30., 31.,  0., 33.,  0., 35.],\n",
       "       [40., 41.,  0., 43.,  0., 45.],\n",
       "       [50., 51.,  0., 53.,  0., 55.]])"
      ]
     },
     "execution_count": 184,
     "metadata": {},
     "output_type": "execute_result"
    }
   ],
   "source": [
    "# Let's try this\n",
    "arr2d[l1][:,l2] = 99\n",
    "arr2d\n",
    "# ... does not really work"
   ]
  },
  {
   "cell_type": "code",
   "execution_count": 185,
   "metadata": {},
   "outputs": [
    {
     "name": "stdout",
     "output_type": "stream",
     "text": [
      "[[ 0.  1.  0.  3.  0.  5.]\n",
      " [10. 11.  0. 13.  0. 15.]\n",
      " [88. 88. 88. 88. 88. 88.]\n",
      " [30. 31.  0. 33.  0. 35.]\n",
      " [88. 88. 88. 88. 88. 88.]\n",
      " [50. 51.  0. 53.  0. 55.]]\n",
      "\n",
      "\n",
      "[[ 0.  1.  0.  3.  0.  5.]\n",
      " [10. 11.  0. 13.  0. 15.]\n",
      " [77. 77. 77. 77. 77. 77.]\n",
      " [30. 31.  0. 33.  0. 35.]\n",
      " [77. 77. 77. 77. 77. 77.]\n",
      " [50. 51.  0. 53.  0. 55.]]\n",
      "\n",
      "--------------------------------------------\n",
      "[[ 0.  1.  0.  3.  0.  5.]\n",
      " [10. 11.  0. 13.  0. 15.]\n",
      " [77. 77. 77. 77. 77. 77.]\n",
      " [30. 31.  0. 33.  0. 35.]\n",
      " [77. 77. 77. 77. 77. 77.]\n",
      " [50. 51.  0. 53.  0. 55.]]\n",
      "\n",
      "[[55. 55. 77. 55. 77. 77.]\n",
      " [55. 55. 77. 55. 77. 77.]]\n",
      "\n",
      "[[ 0.  1.  0.  3.  0.  5.]\n",
      " [10. 11.  0. 13.  0. 15.]\n",
      " [77. 77. 77. 77. 77. 77.]\n",
      " [30. 31.  0. 33.  0. 35.]\n",
      " [77. 77. 77. 77. 77. 77.]\n",
      " [50. 51.  0. 53.  0. 55.]]\n"
     ]
    }
   ],
   "source": [
    "# this notation\n",
    "arr2d[l1] = 88\n",
    "print(arr2d)\n",
    "print(\"\\n\")\n",
    "# is equal to\n",
    "arr2d.__setitem__(l1, 77)\n",
    "print(arr2d)\n",
    "print(\"\\n--------------------------------------------\")\n",
    "# there is no need to create neither view or copy,\n",
    "# because the method can be evaluated in place\n",
    "# meaning, there is NO new object creation involved\n",
    "# However...\n",
    "arr2d[l1][:,l2] = 66\n",
    "print(arr2d)\n",
    "# this notation is equal to\n",
    "aux = arr2d.__getitem__(l1)     # creation of new object\n",
    "aux.T.__setitem__(l2, 55)\n",
    "print('\\n{}\\n\\n{}'.format(aux, arr2d))"
   ]
  },
  {
   "cell_type": "markdown",
   "metadata": {},
   "source": [
    "# View and Copy\n",
    "* view: different view of the same memory content\n",
    "* copy: contents are physically stored in another location"
   ]
  },
  {
   "cell_type": "code",
   "execution_count": 208,
   "metadata": {},
   "outputs": [
    {
     "name": "stdout",
     "output_type": "stream",
     "text": [
      "changed aux, arr = [99  1  2  3  4  5]\n",
      "changed arr, aux = [99 88  2  3  4  5]\n"
     ]
    }
   ],
   "source": [
    "# View:\n",
    "arr = np.arange(6)   # base array\n",
    "aux = arr.view()     # view\n",
    "aux[0] = 99\n",
    "print('changed aux, arr = {}'.format(arr))\n",
    "arr[1] = 88\n",
    "print('changed arr, aux = {}'.format(aux))"
   ]
  },
  {
   "cell_type": "code",
   "execution_count": 209,
   "metadata": {},
   "outputs": [
    {
     "data": {
      "text/plain": [
       "array([99, 88,  2,  3,  4,  5])"
      ]
     },
     "execution_count": 209,
     "metadata": {},
     "output_type": "execute_result"
    }
   ],
   "source": [
    "aux.base   # returns None if the array owns the data, otherwise returns the original object"
   ]
  },
  {
   "cell_type": "markdown",
   "metadata": {},
   "source": [
    "#### View - slicing\n",
    "* special case of view\n",
    "* similar syntax as with other Python objects"
   ]
  },
  {
   "cell_type": "code",
   "execution_count": 211,
   "metadata": {
    "scrolled": true
   },
   "outputs": [
    {
     "name": "stdout",
     "output_type": "stream",
     "text": [
      "[[ 0.  1.  0.  3.  0.  5.]\n",
      " [10. 11.  0. 99. 99. 15.]\n",
      " [77. 77. 77. 99. 99. 77.]\n",
      " [30. 31.  0. 33.  0. 35.]\n",
      " [77. 77. 77. 77. 77. 77.]\n",
      " [50. 51.  0. 53.  0. 55.]]\n"
     ]
    },
    {
     "data": {
      "text/plain": [
       "array([[ 0.,  1.,  0.,  3.,  0.,  5.],\n",
       "       [10., 11.,  0., 99., 99., 15.],\n",
       "       [77., 77., 77., 99., 99., 77.],\n",
       "       [30., 31.,  0., 33.,  0., 35.],\n",
       "       [77., 77., 77., 77., 77., 77.],\n",
       "       [50., 51.,  0., 53.,  0., 55.]])"
      ]
     },
     "execution_count": 211,
     "metadata": {},
     "output_type": "execute_result"
    }
   ],
   "source": [
    "print(arr2d)\n",
    "arr2d_slice = arr2d[1:3, 3:5]    # base array\n",
    "arr2d_slice[:] = 99              # view\n",
    "arr2d"
   ]
  },
  {
   "cell_type": "code",
   "execution_count": 189,
   "metadata": {
    "scrolled": true
   },
   "outputs": [
    {
     "data": {
      "text/plain": [
       "array([[ 0.,  1.,  0.,  3.,  0.,  5.],\n",
       "       [10., 11.,  0., 99., 99., 15.],\n",
       "       [77., 77., 77., 99., 99., 77.],\n",
       "       [30., 31.,  0., 33.,  0., 35.],\n",
       "       [77., 77., 77., 77., 77., 77.],\n",
       "       [50., 51.,  0., 53.,  0., 55.]])"
      ]
     },
     "execution_count": 189,
     "metadata": {},
     "output_type": "execute_result"
    }
   ],
   "source": [
    "# problems with fancy indexing\n",
    "arr2d_slice = arr2d[1:3, [2,3]]\n",
    "arr2d_slice[:] = 77\n",
    "arr2d"
   ]
  },
  {
   "cell_type": "markdown",
   "metadata": {},
   "source": [
    "#### Copy"
   ]
  },
  {
   "cell_type": "code",
   "execution_count": 190,
   "metadata": {},
   "outputs": [
    {
     "data": {
      "text/plain": [
       "array([[ 0.,  1.,  0.,  3.,  0.,  5.],\n",
       "       [10., 11.,  0., 99., 99., 15.],\n",
       "       [77., 77., 77., 99., 99., 77.],\n",
       "       [30., 31.,  0., 33.,  0., 35.],\n",
       "       [77., 77., 77., 77., 77., 77.],\n",
       "       [50., 51.,  0., 53.,  0., 55.]])"
      ]
     },
     "execution_count": 190,
     "metadata": {},
     "output_type": "execute_result"
    }
   ],
   "source": [
    "arr2d_slice = arr2d[1:3, 3:5].copy()\n",
    "arr2d_slice[:] = 88\n",
    "arr2d"
   ]
  },
  {
   "cell_type": "code",
   "execution_count": 191,
   "metadata": {},
   "outputs": [
    {
     "data": {
      "text/plain": [
       "array([[88., 88.],\n",
       "       [88., 88.]])"
      ]
     },
     "execution_count": 191,
     "metadata": {},
     "output_type": "execute_result"
    }
   ],
   "source": [
    "arr2d_slice   # extra physical copy"
   ]
  },
  {
   "cell_type": "code",
   "execution_count": 193,
   "metadata": {},
   "outputs": [
    {
     "name": "stdout",
     "output_type": "stream",
     "text": [
      "None\n"
     ]
    }
   ],
   "source": [
    "print(arr2d_slice.base)"
   ]
  },
  {
   "cell_type": "markdown",
   "metadata": {},
   "source": [
    "#### Just for fun, what will work?"
   ]
  },
  {
   "cell_type": "code",
   "execution_count": 34,
   "metadata": {},
   "outputs": [
    {
     "data": {
      "text/plain": [
       "array([[99,  2, 99],\n",
       "       [ 4,  5,  6],\n",
       "       [ 7,  8,  9]])"
      ]
     },
     "execution_count": 34,
     "metadata": {},
     "output_type": "execute_result"
    }
   ],
   "source": [
    "arr2d = np.array([[1,2,3],[4,5,6],[7,8,9]])\n",
    "l1 = [0,2]\n",
    "\n",
    "arr2d[:1, :][:, l1] = 99\n",
    "arr2d"
   ]
  },
  {
   "cell_type": "code",
   "execution_count": 35,
   "metadata": {},
   "outputs": [
    {
     "data": {
      "text/plain": [
       "array([[1, 2, 3],\n",
       "       [4, 5, 6],\n",
       "       [7, 8, 9]])"
      ]
     },
     "execution_count": 35,
     "metadata": {},
     "output_type": "execute_result"
    }
   ],
   "source": [
    "arr2d = np.array([[1,2,3],[4,5,6],[7,8,9]])\n",
    "l1 = [0,2]\n",
    "\n",
    "arr2d[l1, :][:, :1] = 99\n",
    "arr2d"
   ]
  },
  {
   "cell_type": "markdown",
   "metadata": {},
   "source": [
    "## Indexing - Boolean indexing"
   ]
  },
  {
   "cell_type": "code",
   "execution_count": null,
   "metadata": {},
   "outputs": [],
   "source": [
    "arr = np.array([1,2,3,4,5])\n",
    "arr < 3"
   ]
  },
  {
   "cell_type": "code",
   "execution_count": 36,
   "metadata": {},
   "outputs": [
    {
     "ename": "ValueError",
     "evalue": "The truth value of an array with more than one element is ambiguous. Use a.any() or a.all()",
     "output_type": "error",
     "traceback": [
      "\u001b[0;31m---------------------------------------------------------------------------\u001b[0m",
      "\u001b[0;31mValueError\u001b[0m                                Traceback (most recent call last)",
      "\u001b[0;32m<ipython-input-36-ce0d58e697f6>\u001b[0m in \u001b[0;36m<module>\u001b[0;34m\u001b[0m\n\u001b[1;32m      1\u001b[0m \u001b[0;31m# Can we use two conditions?      ...ERROR\u001b[0m\u001b[0;34m\u001b[0m\u001b[0;34m\u001b[0m\u001b[0;34m\u001b[0m\u001b[0m\n\u001b[0;32m----> 2\u001b[0;31m \u001b[0marr\u001b[0m \u001b[0;34m<\u001b[0m \u001b[0;36m3\u001b[0m \u001b[0;32mand\u001b[0m \u001b[0marr\u001b[0m \u001b[0;34m>\u001b[0m \u001b[0;36m1\u001b[0m\u001b[0;34m\u001b[0m\u001b[0;34m\u001b[0m\u001b[0m\n\u001b[0m",
      "\u001b[0;31mValueError\u001b[0m: The truth value of an array with more than one element is ambiguous. Use a.any() or a.all()"
     ]
    }
   ],
   "source": [
    "# Can we use two conditions?      ...ERROR\n",
    "arr < 3 and arr > 1"
   ]
  },
  {
   "cell_type": "code",
   "execution_count": 38,
   "metadata": {},
   "outputs": [
    {
     "data": {
      "text/plain": [
       "array([[False, False, False],\n",
       "       [ True,  True,  True]])"
      ]
     },
     "execution_count": 38,
     "metadata": {},
     "output_type": "execute_result"
    }
   ],
   "source": [
    "# Python cannot override and, or for arrays\n",
    "(arr < 3) & (arr > 1)"
   ]
  },
  {
   "cell_type": "code",
   "execution_count": null,
   "metadata": {},
   "outputs": [],
   "source": [
    "(arr < 3) | (arr > 3 )"
   ]
  },
  {
   "cell_type": "code",
   "execution_count": null,
   "metadata": {},
   "outputs": [],
   "source": [
    "# brackets are needed   ...ERROR\n",
    "arr < 3 | arr > 3"
   ]
  },
  {
   "cell_type": "code",
   "execution_count": null,
   "metadata": {},
   "outputs": [],
   "source": [
    "# modifying\n",
    "arr[(arr < 3) & (arr > 1)] = 99\n",
    "arr"
   ]
  },
  {
   "cell_type": "markdown",
   "metadata": {},
   "source": [
    "## Input and Output\n",
    "* numpy has its own functions for saving and loading arrays\n",
    "* .npy file stores all the information required to recontruct an array (data, dtype, shape)\n",
    "* .npz (zip) stores several arrays"
   ]
  },
  {
   "cell_type": "code",
   "execution_count": null,
   "metadata": {},
   "outputs": [],
   "source": [
    "# saving single array\n",
    "# creates or overrides the file\n",
    "np.save('arr',arr2d)\n",
    "aux = np.load('arr.npy')\n",
    "aux"
   ]
  },
  {
   "cell_type": "code",
   "execution_count": null,
   "metadata": {},
   "outputs": [],
   "source": [
    "np.save('arr',arr)\n",
    "aux = np.load('arr.npy')\n",
    "aux"
   ]
  },
  {
   "cell_type": "code",
   "execution_count": null,
   "metadata": {},
   "outputs": [],
   "source": [
    "# saving multiple arrays\n",
    "# one default key, one set as we wish\n",
    "np.savez('ziparr', arr, y = arr2d)   \n",
    "aux = np.load('ziparr.npz')\n",
    "\n",
    "# shows files\n",
    "aux.files"
   ]
  },
  {
   "cell_type": "code",
   "execution_count": null,
   "metadata": {},
   "outputs": [],
   "source": [
    "aux['arr_0']"
   ]
  },
  {
   "cell_type": "code",
   "execution_count": null,
   "metadata": {},
   "outputs": [],
   "source": [
    "aux['y']"
   ]
  },
  {
   "cell_type": "code",
   "execution_count": null,
   "metadata": {},
   "outputs": [],
   "source": [
    "# override\n",
    "arr = np.array([1,1])\n",
    "np.savez('ziparr', z = arr)\n",
    "aux = np.load('ziparr.npz')\n",
    "aux.files"
   ]
  },
  {
   "cell_type": "markdown",
   "metadata": {},
   "source": [
    "#### Input and Output \n",
    "##### using PyTables\n",
    "* using HDF5 format, which supports large, complex, heterogenous data\n",
    "* file directory like structure\n",
    " https://stackoverflow.com/questions/30376581/save-numpy-array-in-append-mode/30379177\n",
    "\n",
    "#### or JSON\n",
    "\n",
    "....SAMI"
   ]
  },
  {
   "cell_type": "markdown",
   "metadata": {},
   "source": [
    "# Subclassing\n",
    "### since the subject is called OOP\n",
    "\n",
    "* view casting - casting an existing ndarray as a given subclass\n",
    "* creating new from template\n",
    "\n",
    "### view casting\n",
    "* take an ndarray of any subclass and return a view of the array as a specified subclass"
   ]
  },
  {
   "cell_type": "code",
   "execution_count": 215,
   "metadata": {
    "scrolled": true
   },
   "outputs": [
    {
     "name": "stdout",
     "output_type": "stream",
     "text": [
      "before: c_arr = [0 1 2 3 4]\n",
      "after:  c_arr = [100   1   2   3   4]\n",
      "after:  arr   = [100   1   2   3   4]\n"
     ]
    }
   ],
   "source": [
    "class C(np.ndarray):        \n",
    "    def my_func(self):\n",
    "        self[0] += 100\n",
    "arr = np.arange(5)\n",
    "c_arr = arr.view(C)\n",
    "print('before: c_arr = {}'.format(c_arr))\n",
    "c_arr.my_func()\n",
    "print('after:  c_arr = {}'.format(c_arr))\n",
    "print('after:  arr   = {}'.format(arr))"
   ]
  },
  {
   "cell_type": "code",
   "execution_count": 216,
   "metadata": {},
   "outputs": [
    {
     "data": {
      "text/plain": [
       "array([100,   1,   2,   3,   4])"
      ]
     },
     "execution_count": 216,
     "metadata": {},
     "output_type": "execute_result"
    }
   ],
   "source": [
    "c_arr.base"
   ]
  },
  {
   "cell_type": "markdown",
   "metadata": {},
   "source": [
    "### creating new from template\n",
    "* numpy finds that it needs to create new instance from a template instance"
   ]
  },
  {
   "cell_type": "code",
   "execution_count": 221,
   "metadata": {},
   "outputs": [
    {
     "data": {
      "text/plain": [
       "C([100,   1,   2,   3,   4])"
      ]
     },
     "execution_count": 221,
     "metadata": {},
     "output_type": "execute_result"
    }
   ],
   "source": [
    "aux = c_arr[1:]        # aux is a view onto the c_arr data\n",
    "aux.base               # we get an ndarray of C subclass which points to the data in the original"
   ]
  },
  {
   "cell_type": "markdown",
   "metadata": {},
   "source": [
    "# !!!!!!!!!!!!!!!!!!!!!!!!!!!!!!!!!!!!!!!!!!!!!!!!!!!!!!!!!!!!!!!!!!!!!!!!!!!!!!!!!!!!\n",
    "\n",
    "\n",
    "https://numpy.org/doc/stable/user/basics.subclassing.html\n",
    "\n",
    "https://numpy.org/doc/stable/reference/arrays.classes.html\n",
    "\n",
    "https://numpy.org/doc/stable/user/basics.dispatch.html#basics-dispatch"
   ]
  },
  {
   "cell_type": "markdown",
   "metadata": {},
   "source": [
    "## Dispatch mechanism\n",
    "#### Writing custom array containers\n",
    "* for writing custom N-dimensional array containers that are compatible with numpy API\n",
    "* recommended approach\n",
    "* example: CuPy arrays (N-dimensional arrays on GPU)"
   ]
  },
  {
   "cell_type": "code",
   "execution_count": 238,
   "metadata": {},
   "outputs": [
    {
     "data": {
      "text/plain": [
       "array([[2., 0., 0., 0., 0.],\n",
       "       [0., 2., 0., 0., 0.],\n",
       "       [0., 0., 2., 0., 0.],\n",
       "       [0., 0., 0., 2., 0.],\n",
       "       [0., 0., 0., 0., 2.]])"
      ]
     },
     "execution_count": 238,
     "metadata": {},
     "output_type": "execute_result"
    }
   ],
   "source": [
    "class mod_eye:\n",
    "    def __init__(self, N, value):\n",
    "        self.N = N\n",
    "        self.value = value\n",
    "    def __array__(self):\n",
    "        return self.value * np.eye(5)\n",
    "arr = mod_eye(5,2)\n",
    "np.asarray(arr)     # converts the input to an array, calls __array__() if it exists"
   ]
  },
  {
   "cell_type": "code",
   "execution_count": 239,
   "metadata": {},
   "outputs": [
    {
     "data": {
      "text/plain": [
       "<__main__.mod_eye at 0x7f7e3cb9dc40>"
      ]
     },
     "execution_count": 239,
     "metadata": {},
     "output_type": "execute_result"
    }
   ],
   "source": [
    "arr            # does not change arr itself"
   ]
  },
  {
   "cell_type": "code",
   "execution_count": 241,
   "metadata": {},
   "outputs": [
    {
     "data": {
      "text/plain": [
       "array([[10.,  0.,  0.,  0.,  0.],\n",
       "       [ 0., 10.,  0.,  0.,  0.],\n",
       "       [ 0.,  0., 10.,  0.,  0.],\n",
       "       [ 0.,  0.,  0., 10.,  0.],\n",
       "       [ 0.,  0.,  0.,  0., 10.]])"
      ]
     },
     "execution_count": 241,
     "metadata": {},
     "output_type": "execute_result"
    }
   ],
   "source": [
    "np.multiply(arr, 5)          # again takes in __array__(), output is standard ndarray"
   ]
  },
  {
   "cell_type": "code",
   "execution_count": 242,
   "metadata": {
    "scrolled": true
   },
   "outputs": [
    {
     "data": {
      "text/plain": [
       "__main__.mod_eye"
      ]
     },
     "execution_count": 242,
     "metadata": {},
     "output_type": "execute_result"
    }
   ],
   "source": [
    "type(arr)                  # what if we want this to also return array type?"
   ]
  },
  {
   "cell_type": "markdown",
   "metadata": {},
   "source": [
    "# TODO"
   ]
  },
  {
   "cell_type": "markdown",
   "metadata": {},
   "source": [
    "# C-API\n",
    "https://numpy.org/doc/stable/user/c-info.html\n",
    "# TODO"
   ]
  },
  {
   "cell_type": "code",
   "execution_count": null,
   "metadata": {},
   "outputs": [],
   "source": []
  },
  {
   "cell_type": "code",
   "execution_count": null,
   "metadata": {},
   "outputs": [],
   "source": []
  },
  {
   "cell_type": "code",
   "execution_count": null,
   "metadata": {},
   "outputs": [],
   "source": []
  },
  {
   "cell_type": "markdown",
   "metadata": {},
   "source": [
    "# np.concatenate"
   ]
  },
  {
   "cell_type": "code",
   "execution_count": 115,
   "metadata": {},
   "outputs": [
    {
     "data": {
      "text/plain": [
       "array([1, 0, 4, 1, 2, 1, 2, 1, 2, 1, 2, 1, 2])"
      ]
     },
     "execution_count": 115,
     "metadata": {},
     "output_type": "execute_result"
    }
   ],
   "source": [
    "np.concatenate([[1], [0,4], 5*[1,2]])"
   ]
  },
  {
   "cell_type": "markdown",
   "metadata": {},
   "source": [
    "# np.meshgrid\n",
    "* returns coordinate matrices from coordinate vectors"
   ]
  },
  {
   "cell_type": "code",
   "execution_count": 106,
   "metadata": {},
   "outputs": [
    {
     "data": {
      "text/plain": [
       "[array([[1, 2],\n",
       "        [1, 2],\n",
       "        [1, 2],\n",
       "        [1, 2],\n",
       "        [1, 2]]),\n",
       " array([[1, 1],\n",
       "        [2, 2],\n",
       "        [3, 3],\n",
       "        [4, 4],\n",
       "        [5, 5]])]"
      ]
     },
     "execution_count": 106,
     "metadata": {},
     "output_type": "execute_result"
    }
   ],
   "source": [
    "np.meshgrid([1,2], [1,2,3,4,5])"
   ]
  },
  {
   "cell_type": "markdown",
   "metadata": {},
   "source": [
    "# np.mgrid\n",
    "* returns mesh-grid ndarrays all of the same dimensions\n",
    "* if the step length is a complex number, for example 2j, then 2 specifies the number of points between the start and stop value (stop value included)"
   ]
  },
  {
   "cell_type": "code",
   "execution_count": 56,
   "metadata": {},
   "outputs": [
    {
     "data": {
      "text/plain": [
       "array([[[0. , 0. , 0. ],\n",
       "        [1. , 1. , 1. ],\n",
       "        [2. , 2. , 2. ],\n",
       "        [3. , 3. , 3. ]],\n",
       "\n",
       "       [[0. , 2.5, 5. ],\n",
       "        [0. , 2.5, 5. ],\n",
       "        [0. , 2.5, 5. ],\n",
       "        [0. , 2.5, 5. ]]])"
      ]
     },
     "execution_count": 56,
     "metadata": {},
     "output_type": "execute_result"
    }
   ],
   "source": [
    "aux = np.mgrid[0:4, 0:5:3j]\n",
    "aux"
   ]
  },
  {
   "cell_type": "code",
   "execution_count": 9,
   "metadata": {},
   "outputs": [
    {
     "data": {
      "text/plain": [
       "array([0, 1, 2])"
      ]
     },
     "execution_count": 9,
     "metadata": {},
     "output_type": "execute_result"
    }
   ],
   "source": [
    "np.mgrid[0:3]"
   ]
  },
  {
   "cell_type": "markdown",
   "metadata": {},
   "source": [
    "# np.ogrid\n",
    "* returns an open (not fleshed out) multi-dimensional \"meshgrid\"    ????? it is a list\n",
    "* only one dimension of each returned array is greater than 1\n",
    "* dimension and number of the output arrays are equal to the number of indexing dimensions"
   ]
  },
  {
   "cell_type": "code",
   "execution_count": 52,
   "metadata": {},
   "outputs": [
    {
     "data": {
      "text/plain": [
       "[array([[0.],\n",
       "        [1.],\n",
       "        [2.],\n",
       "        [3.]]),\n",
       " array([[0. , 2.5, 5. ]])]"
      ]
     },
     "execution_count": 52,
     "metadata": {},
     "output_type": "execute_result"
    }
   ],
   "source": [
    "aux = np.ogrid[0:4, 0:5:3j]\n",
    "aux"
   ]
  },
  {
   "cell_type": "code",
   "execution_count": 53,
   "metadata": {},
   "outputs": [
    {
     "name": "stdout",
     "output_type": "stream",
     "text": [
      "(4, 1)\n"
     ]
    },
    {
     "data": {
      "text/plain": [
       "2"
      ]
     },
     "execution_count": 53,
     "metadata": {},
     "output_type": "execute_result"
    }
   ],
   "source": [
    "print(aux[0].shape)\n",
    "aux[0].ndim"
   ]
  },
  {
   "cell_type": "code",
   "execution_count": 54,
   "metadata": {},
   "outputs": [
    {
     "name": "stdout",
     "output_type": "stream",
     "text": [
      "(1, 3)\n"
     ]
    },
    {
     "data": {
      "text/plain": [
       "2"
      ]
     },
     "execution_count": 54,
     "metadata": {},
     "output_type": "execute_result"
    }
   ],
   "source": [
    "print(aux[1].shape)\n",
    "aux[1].ndim"
   ]
  },
  {
   "cell_type": "markdown",
   "metadata": {},
   "source": [
    "# np.r_\n",
    "* translates slice objects to concatenation along the first axis"
   ]
  },
  {
   "cell_type": "code",
   "execution_count": null,
   "metadata": {},
   "outputs": [],
   "source": [
    "aux = np.r_[np.array([1,8,3]), 9, [7, 6]]\n",
    "aux"
   ]
  },
  {
   "cell_type": "markdown",
   "metadata": {},
   "source": [
    "* we can specify the axis using string integers"
   ]
  },
  {
   "cell_type": "code",
   "execution_count": 79,
   "metadata": {
    "scrolled": true
   },
   "outputs": [
    {
     "data": {
      "text/plain": [
       "array([[1, 2, 3],\n",
       "       [4, 5, 6],\n",
       "       [1, 2, 3],\n",
       "       [4, 5, 6]])"
      ]
     },
     "execution_count": 79,
     "metadata": {},
     "output_type": "execute_result"
    }
   ],
   "source": [
    "arr = np.array([[1,2,3], [4,5,6]])\n",
    "aux = np.r_['0', arr, arr] # concatenate along the first axis\n",
    "aux"
   ]
  },
  {
   "cell_type": "code",
   "execution_count": 83,
   "metadata": {},
   "outputs": [
    {
     "data": {
      "text/plain": [
       "array([[1, 2, 3, 1, 2, 3],\n",
       "       [4, 5, 6, 4, 5, 6]])"
      ]
     },
     "execution_count": 83,
     "metadata": {},
     "output_type": "execute_result"
    }
   ],
   "source": [
    "aux = np.r_['-1', arr, arr] # concatenate along the last axis\n",
    "aux"
   ]
  },
  {
   "cell_type": "code",
   "execution_count": 90,
   "metadata": {},
   "outputs": [
    {
     "data": {
      "text/plain": [
       "array([[[1, 2, 3],\n",
       "        [4, 5, 6],\n",
       "        [1, 2, 3],\n",
       "        [4, 5, 6]]])"
      ]
     },
     "execution_count": 90,
     "metadata": {},
     "output_type": "execute_result"
    }
   ],
   "source": [
    "aux = np.r_['1,3', arr, arr]  # concatenate along the first axis, dim >= 3\n",
    "aux"
   ]
  },
  {
   "cell_type": "code",
   "execution_count": 96,
   "metadata": {},
   "outputs": [
    {
     "data": {
      "text/plain": [
       "matrix([[1, 2, 3],\n",
       "        [4, 5, 6],\n",
       "        [1, 2, 3],\n",
       "        [4, 5, 6]])"
      ]
     },
     "execution_count": 96,
     "metadata": {},
     "output_type": "execute_result"
    }
   ],
   "source": [
    "aux = np.r_['r', arr, arr]   # r or c creates matrix\n",
    "aux"
   ]
  },
  {
   "cell_type": "markdown",
   "metadata": {},
   "source": [
    "# np.c_\n",
    "* translates slice objects to concatenation along the second axis"
   ]
  },
  {
   "cell_type": "code",
   "execution_count": 97,
   "metadata": {},
   "outputs": [
    {
     "data": {
      "text/plain": [
       "array([[1, 2, 3, 1, 2, 3],\n",
       "       [4, 5, 6, 4, 5, 6]])"
      ]
     },
     "execution_count": 97,
     "metadata": {},
     "output_type": "execute_result"
    }
   ],
   "source": [
    "np.c_[arr, arr]"
   ]
  },
  {
   "cell_type": "code",
   "execution_count": 103,
   "metadata": {},
   "outputs": [
    {
     "data": {
      "text/plain": [
       "array([[1, 8, 3, 9, 7, 6]])"
      ]
     },
     "execution_count": 103,
     "metadata": {},
     "output_type": "execute_result"
    }
   ],
   "source": [
    "aux = np.c_[np.array([[1,8,3]]), 9, [[7, 6]]]            # not the same as the first one\n",
    "aux"
   ]
  },
  {
   "cell_type": "markdown",
   "metadata": {},
   "source": [
    "# np.vectorize\n",
    "* defince a vectorized function\n",
    " *  input: a nested sequence of objects or ndarrays\n",
    " *  output: single ndarray or a tuple of ndarrays"
   ]
  },
  {
   "cell_type": "code",
   "execution_count": 159,
   "metadata": {},
   "outputs": [
    {
     "data": {
      "text/plain": [
       "array([4, 5, 6, 7])"
      ]
     },
     "execution_count": 159,
     "metadata": {},
     "output_type": "execute_result"
    }
   ],
   "source": [
    "def my_func(a, b):\n",
    "    return a+b\n",
    "aux = np.vectorize(my_func)\n",
    "aux(a=[1,2,3,4], b=3)"
   ]
  },
  {
   "cell_type": "code",
   "execution_count": 160,
   "metadata": {},
   "outputs": [
    {
     "data": {
      "text/plain": [
       "array([ 8, 10, 12, 14])"
      ]
     },
     "execution_count": 160,
     "metadata": {},
     "output_type": "execute_result"
    }
   ],
   "source": [
    "# can exclude from vectorization\n",
    "def my_func(a, b):\n",
    "    aux = list(b)\n",
    "    res = aux.pop(0)\n",
    "    while aux:\n",
    "        res += a + aux.pop(0)\n",
    "    return res\n",
    "aux = np.vectorize(my_func, excluded=['b'])\n",
    "aux(a=[1,2,3,4], b=[3,2,1])"
   ]
  },
  {
   "cell_type": "code",
   "execution_count": null,
   "metadata": {},
   "outputs": [],
   "source": []
  }
 ],
 "metadata": {
  "kernelspec": {
   "display_name": "Python 3",
   "language": "python",
   "name": "python3"
  },
  "language_info": {
   "codemirror_mode": {
    "name": "ipython",
    "version": 3
   },
   "file_extension": ".py",
   "mimetype": "text/x-python",
   "name": "python",
   "nbconvert_exporter": "python",
   "pygments_lexer": "ipython3",
   "version": "3.8.2"
  }
 },
 "nbformat": 4,
 "nbformat_minor": 4
}
